{
 "cells": [
  {
   "cell_type": "markdown",
   "id": "6a8b3c41",
   "metadata": {
    "id": "6a8b3c41"
   },
   "source": [
    "<img src='images/Practicum_AI_Logo.white_outline.svg' width=250 alt='Practicum AI logo'> <img src='https://github.com/PracticumAI/practicumai.github.io/blob/main/images/icons/practicumai_python.png?raw=true' align='right' width=50>\n",
    "***\n",
    "\n",
    "# Data Analysis with pandas\n",
    "In this module, you will learn about one of the most popular and valuable Python libraries for data analysis and manipulation: ***pandas***!\n",
    "\n",
    "<img src='images/pandas_logo.png' alt='The pandas logo' align='center' width=200>"
   ]
  },
  {
   "cell_type": "markdown",
   "id": "c1b3e4cd",
   "metadata": {},
   "source": [
    "### After this module, students will be able to:\n",
    "* Explain the various components of a pandas DateFrame.\n",
    "* Use `read_csv()` to create new DateFrames from data.\n",
    "* Subset data with pandas index and DateFrame management functions.\n",
    "* Use basic statistical functions to summarize a dataset.\n",
    "* Use matplotlib functions to generate clear graphs and plots.\n",
    "\n",
    "\n",
    "## <img src='images/get_started_icon.svg' alt=\"Let's get started header\" width=40 align=center> Let's Get Started!"
   ]
  },
  {
   "cell_type": "markdown",
   "id": "0b3af23e",
   "metadata": {},
   "source": [
    "As we learned in the last module, we must **import** the pandas library before we can use it.\n",
    "* We'll also import the scientific computing library NumPy for illustration purposes.\n",
    "* NumPy and pandas are usually imported with abbreviated aliases, `np` and `pd`."
   ]
  },
  {
   "cell_type": "code",
   "execution_count": null,
   "id": "0e56bf5f",
   "metadata": {
    "tags": []
   },
   "outputs": [],
   "source": [
    "import numpy as np\n",
    "import pandas as pd"
   ]
  },
  {
   "cell_type": "markdown",
   "id": "dbf7bc4c-61fa-4863-8e6a-aa4a2d2497fb",
   "metadata": {},
   "source": [
    ">## <img src='images/alert_icon.svg' alt=\"Alert icon\" width=40 align=center> Did you get an error here?\n",
    ">\n",
    ">If you got an error running the cell above, it is probably because the environment you are working in doesn't have `numpy` or `pandas` installed.\n",
    ">\n",
    ">### For Google Colab\n",
    ">\n",
    ">On Google Colab, this shouldn't be an issue (for these libraries), and if you do run into this in the future, it is generally OK (and expected in Colab) to use `!pip install ___` to install a library. In Colab, each notebook is independent of other notebooks, so the installation of packages has limited impact. But, be especially careful doing this on HPC systems; installing things that cause compatibility issues is easy.\n",
    ">\n",
    ">### For Jupyter on HPC systems\n",
    ">\n",
    ">For most of what the *Practicum AI* courses cover, an environment (known as a **kernel**) will be ready for you to use. Check the kernel if you run into an error about a missing library. The current kernel is shown in the top right of the notebook:\n",
    ">![Screenshot of a Jupyter notebook showing the currently selected kernel](images/kernel.png)\n",
    ">For this notebook on HiPerGator, we will use the **UFRC Python-3.10** kernel."
   ]
  },
  {
   "cell_type": "markdown",
   "id": "99857f15",
   "metadata": {},
   "source": [
    "## pandas Dataframes\n",
    "\n",
    "pandas provides one of the most useful data structures for managing data: the DataFrame.\n",
    "\n",
    "**DataFrames:**\n",
    "\n",
    "* Allow fast, flexible, and efficient data manipulation.\n",
    "* Are the natural data structure for **tabular** data.\n",
    "* Are two-dimensional, containing both **rows** and **columns**.\n",
    "* Consist of one or more **Series** (as columns).\n",
    "\n",
    "\n",
    "***pandas*** is built on top of the **NumPy** library, which in practice means that most of the methods defined for NumPy Arrays apply to pandas Series/DataFrames.\n",
    "\n",
    "**What makes pandas so useful for working with data?**\n",
    "1. Powerful and efficient interface to access and manipulate individual records.\n",
    "2. Tools for handling missing values and explicit values for missing data (`NaN` and `None`).\n",
    "3. Relational database-style operations between DataFrames."
   ]
  },
  {
   "cell_type": "markdown",
   "id": "fc574944-2a60-429f-a6de-8e77d6498ddf",
   "metadata": {},
   "source": [
    "### <img src='images/note_icon.svg' alt=\"Note icon\" width=40 align=center> Note\n",
    "> Some of the examples used in this notebook are different from those used in the corresponding video."
   ]
  },
  {
   "cell_type": "markdown",
   "id": "55746954",
   "metadata": {},
   "source": [
    "## Creating a Series\n",
    "\n",
    "Let's start by creating our first pandas Series! (Remember: in the context of a **DataFrame** (table), each column is represented by a **Series**)."
   ]
  },
  {
   "cell_type": "markdown",
   "id": "4b01d9b5",
   "metadata": {},
   "source": [
    "First, let's create some example data to illustrate the creation of our Series. in this example, we will use data that relates a person's \"SpO2\" reading from a pulse oximeter (which shows the percentage of oxygen in someone's blood), and their risk of adverse outcomes."
   ]
  },
  {
   "cell_type": "code",
   "execution_count": null,
   "id": "4312e1c5",
   "metadata": {
    "tags": []
   },
   "outputs": [],
   "source": [
    "spo2 = [88, 99, 88, 85, 100, 98] # Review: this is a Python list, containing 6 values.\n",
    "risk = ['high', 'low', 'high', 'high', 'low', 'low']"
   ]
  },
  {
   "cell_type": "code",
   "execution_count": 5,
   "id": "c75cc46f",
   "metadata": {
    "tags": []
   },
   "outputs": [
    {
     "ename": "NameError",
     "evalue": "name 'pd' is not defined",
     "output_type": "error",
     "traceback": [
      "\u001b[0;31m---------------------------------------------------------------------------\u001b[0m",
      "\u001b[0;31mNameError\u001b[0m                                 Traceback (most recent call last)",
      "Cell \u001b[0;32mIn[5], line 2\u001b[0m\n\u001b[1;32m      1\u001b[0m \u001b[38;5;66;03m# Create our first Series.\u001b[39;00m\n\u001b[0;32m----> 2\u001b[0m spo2_series \u001b[38;5;241m=\u001b[39m \u001b[43mpd\u001b[49m\u001b[38;5;241m.\u001b[39mSeries(spo2)\n\u001b[1;32m      3\u001b[0m spo2_series\n",
      "\u001b[0;31mNameError\u001b[0m: name 'pd' is not defined"
     ]
    }
   ],
   "source": [
    "# Create our first Series.\n",
    "spo2_series = pd.Series(spo2)\n",
    "spo2_series # If a variable name is the last line in a code cell, Jupyter will display the contents of the variable."
   ]
  },
  {
   "cell_type": "code",
   "execution_count": null,
   "id": "8c3bf8f7",
   "metadata": {
    "tags": []
   },
   "outputs": [],
   "source": [
    "# Do the same for risk.\n",
    "pd.Series(risk) # Display the 'risk' Series"
   ]
  },
  {
   "cell_type": "markdown",
   "id": "b0f7cd66-cc93-4b17-978b-1c4d1403f5d3",
   "metadata": {},
   "source": [
    "### <img src='images/alert_icon.svg' alt=\"Alert icon\" width=40 align=center> Alert!\n",
    "> An important point to remember is that Python is \"zero-indexed.\" That means that the first item in a list, or the first row in a table, has the index of 0.\n",
    ">\n",
    "> Notice the output above. The first column shows the Series index, and the second column has the value. The indices start at 0!\n",
    ">\n",
    "> This applies to lists, strings, arrays, and almost everything in Python. Keep this in mind--a common error is mistakenly using index 1, thinking you are getting the first item, where you need to use index 0.\n"
   ]
  },
  {
   "cell_type": "markdown",
   "id": "82ae812e",
   "metadata": {
    "id": "82ae812e"
   },
   "source": [
    "## Creating a pandas Dataframe\n",
    "\n",
    "* Now that we've seen a Series, we can see how these are combined as **columns** in a **DataFrame**.\n",
    "* By popular convention, we will name our DataFrame variable `df`."
   ]
  },
  {
   "cell_type": "markdown",
   "id": "49f9f24a",
   "metadata": {},
   "source": [
    "### <img src='images/example_icon.svg' alt=\"Example icon\" width=40 align=center> Example\n",
    "> Create a small DataFrame from our example data."
   ]
  },
  {
   "cell_type": "code",
   "execution_count": null,
   "id": "094f5a0a",
   "metadata": {
    "tags": []
   },
   "outputs": [],
   "source": [
    "df = pd.DataFrame({'spo2': spo2, 'risk': risk}) # Create the DataFrame\n",
    "df # View the DataFrame"
   ]
  },
  {
   "cell_type": "code",
   "execution_count": 8,
   "id": "c05ab380-3e42-42a7-a767-30a4c37a4304",
   "metadata": {},
   "outputs": [
    {
     "data": {
      "text/html": [
       "<div>\n",
       "<style scoped>\n",
       "    .dataframe tbody tr th:only-of-type {\n",
       "        vertical-align: middle;\n",
       "    }\n",
       "\n",
       "    .dataframe tbody tr th {\n",
       "        vertical-align: top;\n",
       "    }\n",
       "\n",
       "    .dataframe thead th {\n",
       "        text-align: right;\n",
       "    }\n",
       "</style>\n",
       "<table border=\"1\" class=\"dataframe\">\n",
       "  <thead>\n",
       "    <tr style=\"text-align: right;\">\n",
       "      <th></th>\n",
       "      <th>spo2</th>\n",
       "      <th>risk</th>\n",
       "    </tr>\n",
       "  </thead>\n",
       "  <tbody>\n",
       "    <tr>\n",
       "      <th>0</th>\n",
       "      <td>88</td>\n",
       "      <td>high</td>\n",
       "    </tr>\n",
       "    <tr>\n",
       "      <th>1</th>\n",
       "      <td>99</td>\n",
       "      <td>low</td>\n",
       "    </tr>\n",
       "    <tr>\n",
       "      <th>2</th>\n",
       "      <td>88</td>\n",
       "      <td>high</td>\n",
       "    </tr>\n",
       "    <tr>\n",
       "      <th>3</th>\n",
       "      <td>85</td>\n",
       "      <td>high</td>\n",
       "    </tr>\n",
       "    <tr>\n",
       "      <th>4</th>\n",
       "      <td>100</td>\n",
       "      <td>low</td>\n",
       "    </tr>\n",
       "    <tr>\n",
       "      <th>5</th>\n",
       "      <td>98</td>\n",
       "      <td>low</td>\n",
       "    </tr>\n",
       "  </tbody>\n",
       "</table>\n",
       "</div>"
      ],
      "text/plain": [
       "   spo2  risk\n",
       "0    88  high\n",
       "1    99   low\n",
       "2    88  high\n",
       "3    85  high\n",
       "4   100   low\n",
       "5    98   low"
      ]
     },
     "execution_count": 8,
     "metadata": {},
     "output_type": "execute_result"
    }
   ],
   "source": [
    "import pandas as pd\n",
    "df= pd.DataFrame({'spo2': spo2, 'risk' :risk})\n",
    "df"
   ]
  },
  {
   "cell_type": "markdown",
   "id": "30b3a34a",
   "metadata": {},
   "source": [
    "### <img src='images/example_icon.svg' alt=\"Example icon\" width=40 align=center> Example\n",
    "> Create a larger DataFrame from random data."
   ]
  },
  {
   "cell_type": "code",
   "execution_count": null,
   "id": "1f9d2f08",
   "metadata": {
    "colab": {
     "base_uri": "https://localhost:8080/",
     "height": 143
    },
    "id": "1f9d2f08",
    "outputId": "19429c60-6869-44c7-b761-f2fecd589310",
    "tags": []
   },
   "outputs": [],
   "source": [
    "# Make some random numbers for data. \n",
    "# This makes an array of random integers from 1-10, then reshapes it into a\n",
    "# 500x4 matrix (500 rows and 4 columns).\n",
    "random_data = np.random.randint(1,10, size=2000).reshape(500, 4)\n",
    "\n",
    "# Create some example column names\n",
    "column_names = ['columnA', 'columnB', 'columnC', 'columnD']\n",
    "\n",
    "# Create the DateFrame from the random data we generated.\n",
    "# Since the input matrix has 500 rows and 4 columns, the DataFrame will have\n",
    "# 500 rows and 4 columns.\n",
    "df = pd.DataFrame(data=random_data, columns=column_names)\n",
    "df # View the DataFrame."
   ]
  },
  {
   "cell_type": "code",
   "execution_count": 11,
   "id": "34a9f880-579b-4bff-ae81-fd7d7687c319",
   "metadata": {
    "tags": []
   },
   "outputs": [
    {
     "data": {
      "text/html": [
       "<div>\n",
       "<style scoped>\n",
       "    .dataframe tbody tr th:only-of-type {\n",
       "        vertical-align: middle;\n",
       "    }\n",
       "\n",
       "    .dataframe tbody tr th {\n",
       "        vertical-align: top;\n",
       "    }\n",
       "\n",
       "    .dataframe thead th {\n",
       "        text-align: right;\n",
       "    }\n",
       "</style>\n",
       "<table border=\"1\" class=\"dataframe\">\n",
       "  <thead>\n",
       "    <tr style=\"text-align: right;\">\n",
       "      <th></th>\n",
       "      <th>columnA</th>\n",
       "      <th>columnB</th>\n",
       "      <th>columnC</th>\n",
       "      <th>columnD</th>\n",
       "    </tr>\n",
       "  </thead>\n",
       "  <tbody>\n",
       "    <tr>\n",
       "      <th>0</th>\n",
       "      <td>8</td>\n",
       "      <td>9</td>\n",
       "      <td>8</td>\n",
       "      <td>2</td>\n",
       "    </tr>\n",
       "    <tr>\n",
       "      <th>1</th>\n",
       "      <td>1</td>\n",
       "      <td>9</td>\n",
       "      <td>1</td>\n",
       "      <td>3</td>\n",
       "    </tr>\n",
       "    <tr>\n",
       "      <th>2</th>\n",
       "      <td>3</td>\n",
       "      <td>4</td>\n",
       "      <td>5</td>\n",
       "      <td>8</td>\n",
       "    </tr>\n",
       "    <tr>\n",
       "      <th>3</th>\n",
       "      <td>3</td>\n",
       "      <td>1</td>\n",
       "      <td>5</td>\n",
       "      <td>9</td>\n",
       "    </tr>\n",
       "    <tr>\n",
       "      <th>4</th>\n",
       "      <td>1</td>\n",
       "      <td>1</td>\n",
       "      <td>3</td>\n",
       "      <td>3</td>\n",
       "    </tr>\n",
       "    <tr>\n",
       "      <th>...</th>\n",
       "      <td>...</td>\n",
       "      <td>...</td>\n",
       "      <td>...</td>\n",
       "      <td>...</td>\n",
       "    </tr>\n",
       "    <tr>\n",
       "      <th>495</th>\n",
       "      <td>6</td>\n",
       "      <td>1</td>\n",
       "      <td>9</td>\n",
       "      <td>7</td>\n",
       "    </tr>\n",
       "    <tr>\n",
       "      <th>496</th>\n",
       "      <td>6</td>\n",
       "      <td>5</td>\n",
       "      <td>7</td>\n",
       "      <td>6</td>\n",
       "    </tr>\n",
       "    <tr>\n",
       "      <th>497</th>\n",
       "      <td>4</td>\n",
       "      <td>6</td>\n",
       "      <td>6</td>\n",
       "      <td>5</td>\n",
       "    </tr>\n",
       "    <tr>\n",
       "      <th>498</th>\n",
       "      <td>6</td>\n",
       "      <td>4</td>\n",
       "      <td>5</td>\n",
       "      <td>5</td>\n",
       "    </tr>\n",
       "    <tr>\n",
       "      <th>499</th>\n",
       "      <td>9</td>\n",
       "      <td>7</td>\n",
       "      <td>1</td>\n",
       "      <td>4</td>\n",
       "    </tr>\n",
       "  </tbody>\n",
       "</table>\n",
       "<p>500 rows × 4 columns</p>\n",
       "</div>"
      ],
      "text/plain": [
       "     columnA  columnB  columnC  columnD\n",
       "0          8        9        8        2\n",
       "1          1        9        1        3\n",
       "2          3        4        5        8\n",
       "3          3        1        5        9\n",
       "4          1        1        3        3\n",
       "..       ...      ...      ...      ...\n",
       "495        6        1        9        7\n",
       "496        6        5        7        6\n",
       "497        4        6        6        5\n",
       "498        6        4        5        5\n",
       "499        9        7        1        4\n",
       "\n",
       "[500 rows x 4 columns]"
      ]
     },
     "execution_count": 11,
     "metadata": {},
     "output_type": "execute_result"
    }
   ],
   "source": [
    "import numpy as np\n",
    "random_data = np.random.randint(1,10,size=2000). reshape(500,4)\n",
    "\n",
    "column_names = ['columnA', 'columnB', 'columnC', 'columnD']\n",
    "df=pd.DataFrame(data=random_data, columns=column_names)\n",
    "df"
   ]
  },
  {
   "cell_type": "markdown",
   "id": "9e00c7d4",
   "metadata": {},
   "source": [
    "### <img src='images/note_icon.svg' alt=\"Note icon\" width=40 align=center> Note\n",
    "> When viewing a large DataFrame in a Jupyter notebook, sometimes the data will be **truncated** as above."
   ]
  },
  {
   "cell_type": "markdown",
   "id": "219cee8e-34f2-4e74-a31c-22f0a0a45562",
   "metadata": {},
   "source": [
    "We often want to see the first (or last) several rows of a DateFrame. We can use the `head()` and `tail()` functions."
   ]
  },
  {
   "cell_type": "code",
   "execution_count": null,
   "id": "0dbb7076-23a7-4d0d-a90b-addbccb55ded",
   "metadata": {
    "tags": []
   },
   "outputs": [],
   "source": [
    "# View the 1st 5 rows.\n",
    "df.head()"
   ]
  },
  {
   "cell_type": "code",
   "execution_count": null,
   "id": "dbc449b0-39d4-4b9d-aaa0-104db61f4389",
   "metadata": {
    "tags": []
   },
   "outputs": [],
   "source": [
    "# View the last 3 rows (head also takes a number of rows as an optional\n",
    "# argument).\n",
    "df.tail(3)"
   ]
  },
  {
   "cell_type": "markdown",
   "id": "6f9e38f9-9ef6-4d08-b24a-0218eb9845c9",
   "metadata": {},
   "source": [
    "We can also limit our views to particular columns using the column names. If the column names have no spaces or special characters, we can use the \"dot\" notation: `df.columnA`. Otherwise, we must pass a list of columns: `df[['columnA', 'columnB']]`."
   ]
  },
  {
   "cell_type": "code",
   "execution_count": null,
   "id": "2edec7c9-3024-4590-bd51-302adc491479",
   "metadata": {
    "tags": []
   },
   "outputs": [],
   "source": [
    "# View multiple columns or if there are spaces in names\n",
    "# Note the double square brackets!\n",
    "df[['columnA', 'columnB']].head()"
   ]
  },
  {
   "cell_type": "markdown",
   "id": "6cf367e3",
   "metadata": {
    "id": "6cf367e3"
   },
   "source": [
    "# Creating a DataFrame from an existing data file\n",
    "\n",
    "* Instead of creating a DataFrame from scratch (tedious!), we usually create a DataFrame by loading an existing data file.\n",
    "* The most common file format for storing datasets is the **comma-separated value** `(.csv)` file.\n",
    "\n",
    "> To create a pandas DataFrame from a `.csv` file, we'll use the `read_csv` function."
   ]
  },
  {
   "cell_type": "markdown",
   "id": "51a7d5d0",
   "metadata": {},
   "source": [
    "### Let's load some data\n",
    "\n",
    "The main input argument to the `read_csv` function can be a local filename or a remote file URL. In this example, we'll be using an online file.\n",
    "\n",
    "The dataset used is from the [GapMinder Project](https://www.gapminder.org/) and includes information on GDP, life expectancy, and population in various countries for different years."
   ]
  },
  {
   "cell_type": "code",
   "execution_count": null,
   "id": "18a17ef6",
   "metadata": {
    "tags": []
   },
   "outputs": [],
   "source": [
    "url='https://raw.githubusercontent.com/PracticumAI/python-for-ai/main/data/gapminder_all.csv' # Direct link to the dataset on GitHub\n",
    "df = pd.read_csv(url) # Create the DataFrame from the given URL\n",
    "df # View the DateFrame we just created"
   ]
  },
  {
   "cell_type": "markdown",
   "id": "8e6be464",
   "metadata": {},
   "source": [
    "We can see that this dataset contains 142 rows and 38 columns corresponding to each country's GDP, life expectancy, and population between 1952 and 2007.\n",
    "\n",
    "### <img src='images/note_icon.svg' alt=\"Note icon\" width=40 align=center> Note\n",
    "> Stop for a second here. What happened to the variable `df` we defined for our SpO2 data?\n"
   ]
  },
  {
   "cell_type": "markdown",
   "id": "47YUaLX0zc_8",
   "metadata": {
    "id": "47YUaLX0zc_8"
   },
   "source": [
    "## Viewing parts of a Dataframe\n",
    "* Dataframes often hold many rows (in many AI projects, you might be dealing with hundreds of thousands, or even millions, of samples!)\n",
    "* Sometimes, we want a preview or a sense of the data stored in our DataFrame.\n",
    "* In the below examples, we'll see a few ways to view parts of a DataFrame.\n",
    "    * This includes viewing a subset of columns, a subset of rows, or both.\n",
    "\n",
    "With so many columns, it can be a bit hard to see all of them, but we can get a list of the columns in the DataFrame with the `.columns` method:"
   ]
  },
  {
   "cell_type": "code",
   "execution_count": 19,
   "id": "ee31a55d-398b-4f8c-857c-bc5f750917d9",
   "metadata": {
    "tags": []
   },
   "outputs": [
    {
     "data": {
      "text/plain": [
       "Index(['columnA', 'columnB', 'columnC', 'columnD'], dtype='object')"
      ]
     },
     "execution_count": 19,
     "metadata": {},
     "output_type": "execute_result"
    }
   ],
   "source": [
    "df.columns"
   ]
  },
  {
   "cell_type": "markdown",
   "id": "e6b380d7",
   "metadata": {},
   "source": [
    "Next, let's revisit viewing some of a DataFrame's **rows**. Since pandas is so flexible, there are several ways to accomplish this. The examples below use the pandas' functions `head` and `tail`.\n",
    "\n",
    "### <img src='images/exercise_icon.svg' alt=\"Exercise icon\" width=40 align=center> Exercise 1\n",
    "\n",
    "> Use `head` to view the first 5 rows of our `df` DataFrame. (**Hint:** Given a DataFrame `X`, calling `X.head()` will show the first `5` rows of the DataFrame.  "
   ]
  },
  {
   "cell_type": "code",
   "execution_count": 13,
   "id": "95f5d8dd",
   "metadata": {
    "tags": []
   },
   "outputs": [
    {
     "data": {
      "text/html": [
       "<div>\n",
       "<style scoped>\n",
       "    .dataframe tbody tr th:only-of-type {\n",
       "        vertical-align: middle;\n",
       "    }\n",
       "\n",
       "    .dataframe tbody tr th {\n",
       "        vertical-align: top;\n",
       "    }\n",
       "\n",
       "    .dataframe thead th {\n",
       "        text-align: right;\n",
       "    }\n",
       "</style>\n",
       "<table border=\"1\" class=\"dataframe\">\n",
       "  <thead>\n",
       "    <tr style=\"text-align: right;\">\n",
       "      <th></th>\n",
       "      <th>columnA</th>\n",
       "      <th>columnB</th>\n",
       "      <th>columnC</th>\n",
       "      <th>columnD</th>\n",
       "    </tr>\n",
       "  </thead>\n",
       "  <tbody>\n",
       "    <tr>\n",
       "      <th>0</th>\n",
       "      <td>8</td>\n",
       "      <td>9</td>\n",
       "      <td>8</td>\n",
       "      <td>2</td>\n",
       "    </tr>\n",
       "    <tr>\n",
       "      <th>1</th>\n",
       "      <td>1</td>\n",
       "      <td>9</td>\n",
       "      <td>1</td>\n",
       "      <td>3</td>\n",
       "    </tr>\n",
       "    <tr>\n",
       "      <th>2</th>\n",
       "      <td>3</td>\n",
       "      <td>4</td>\n",
       "      <td>5</td>\n",
       "      <td>8</td>\n",
       "    </tr>\n",
       "    <tr>\n",
       "      <th>3</th>\n",
       "      <td>3</td>\n",
       "      <td>1</td>\n",
       "      <td>5</td>\n",
       "      <td>9</td>\n",
       "    </tr>\n",
       "    <tr>\n",
       "      <th>4</th>\n",
       "      <td>1</td>\n",
       "      <td>1</td>\n",
       "      <td>3</td>\n",
       "      <td>3</td>\n",
       "    </tr>\n",
       "  </tbody>\n",
       "</table>\n",
       "</div>"
      ],
      "text/plain": [
       "   columnA  columnB  columnC  columnD\n",
       "0        8        9        8        2\n",
       "1        1        9        1        3\n",
       "2        3        4        5        8\n",
       "3        3        1        5        9\n",
       "4        1        1        3        3"
      ]
     },
     "execution_count": 13,
     "metadata": {},
     "output_type": "execute_result"
    }
   ],
   "source": [
    "# View only the first 5 rows of the DateFrame.\n",
    "# Your code here\n",
    "df.head(5)"
   ]
  },
  {
   "cell_type": "markdown",
   "id": "9bd524d6",
   "metadata": {},
   "source": [
    "### <img src='images/exercise_icon.svg' alt=\"Exercise icon\" width=40 align=center> Exercise 2\n",
    "> Use `head` to view the first **10** rows of `df`. (**Hint:** You can also provide an input argument `n` to the `head` function to show the first `n` rows (instead of the default `5` rows))."
   ]
  },
  {
   "cell_type": "code",
   "execution_count": 14,
   "id": "d0be82b9",
   "metadata": {
    "tags": []
   },
   "outputs": [
    {
     "data": {
      "text/html": [
       "<div>\n",
       "<style scoped>\n",
       "    .dataframe tbody tr th:only-of-type {\n",
       "        vertical-align: middle;\n",
       "    }\n",
       "\n",
       "    .dataframe tbody tr th {\n",
       "        vertical-align: top;\n",
       "    }\n",
       "\n",
       "    .dataframe thead th {\n",
       "        text-align: right;\n",
       "    }\n",
       "</style>\n",
       "<table border=\"1\" class=\"dataframe\">\n",
       "  <thead>\n",
       "    <tr style=\"text-align: right;\">\n",
       "      <th></th>\n",
       "      <th>columnA</th>\n",
       "      <th>columnB</th>\n",
       "      <th>columnC</th>\n",
       "      <th>columnD</th>\n",
       "    </tr>\n",
       "  </thead>\n",
       "  <tbody>\n",
       "    <tr>\n",
       "      <th>0</th>\n",
       "      <td>8</td>\n",
       "      <td>9</td>\n",
       "      <td>8</td>\n",
       "      <td>2</td>\n",
       "    </tr>\n",
       "    <tr>\n",
       "      <th>1</th>\n",
       "      <td>1</td>\n",
       "      <td>9</td>\n",
       "      <td>1</td>\n",
       "      <td>3</td>\n",
       "    </tr>\n",
       "    <tr>\n",
       "      <th>2</th>\n",
       "      <td>3</td>\n",
       "      <td>4</td>\n",
       "      <td>5</td>\n",
       "      <td>8</td>\n",
       "    </tr>\n",
       "    <tr>\n",
       "      <th>3</th>\n",
       "      <td>3</td>\n",
       "      <td>1</td>\n",
       "      <td>5</td>\n",
       "      <td>9</td>\n",
       "    </tr>\n",
       "    <tr>\n",
       "      <th>4</th>\n",
       "      <td>1</td>\n",
       "      <td>1</td>\n",
       "      <td>3</td>\n",
       "      <td>3</td>\n",
       "    </tr>\n",
       "    <tr>\n",
       "      <th>5</th>\n",
       "      <td>8</td>\n",
       "      <td>6</td>\n",
       "      <td>8</td>\n",
       "      <td>8</td>\n",
       "    </tr>\n",
       "    <tr>\n",
       "      <th>6</th>\n",
       "      <td>8</td>\n",
       "      <td>6</td>\n",
       "      <td>1</td>\n",
       "      <td>2</td>\n",
       "    </tr>\n",
       "    <tr>\n",
       "      <th>7</th>\n",
       "      <td>9</td>\n",
       "      <td>5</td>\n",
       "      <td>7</td>\n",
       "      <td>8</td>\n",
       "    </tr>\n",
       "    <tr>\n",
       "      <th>8</th>\n",
       "      <td>3</td>\n",
       "      <td>1</td>\n",
       "      <td>2</td>\n",
       "      <td>5</td>\n",
       "    </tr>\n",
       "    <tr>\n",
       "      <th>9</th>\n",
       "      <td>6</td>\n",
       "      <td>3</td>\n",
       "      <td>2</td>\n",
       "      <td>5</td>\n",
       "    </tr>\n",
       "  </tbody>\n",
       "</table>\n",
       "</div>"
      ],
      "text/plain": [
       "   columnA  columnB  columnC  columnD\n",
       "0        8        9        8        2\n",
       "1        1        9        1        3\n",
       "2        3        4        5        8\n",
       "3        3        1        5        9\n",
       "4        1        1        3        3\n",
       "5        8        6        8        8\n",
       "6        8        6        1        2\n",
       "7        9        5        7        8\n",
       "8        3        1        2        5\n",
       "9        6        3        2        5"
      ]
     },
     "execution_count": 14,
     "metadata": {},
     "output_type": "execute_result"
    }
   ],
   "source": [
    "# View only the first 10 rows of the DataFrame.\n",
    "# Your code here\n",
    "df.head(10)"
   ]
  },
  {
   "cell_type": "markdown",
   "id": "44f9d9ca",
   "metadata": {},
   "source": [
    "### <img src='images/exercise_icon.svg' alt=\"Exercise icon\" width=40 align=center> Exercise 3\n",
    "> Use `tail` to view the **last** 5 rows of our `df` DataFrame. (**Hint:** Given a DateFrame `X`, calling `X.tail()` will show the **last** `5` rows of the DateFrame).  "
   ]
  },
  {
   "cell_type": "code",
   "execution_count": 15,
   "id": "4535f19a",
   "metadata": {
    "tags": []
   },
   "outputs": [
    {
     "data": {
      "text/html": [
       "<div>\n",
       "<style scoped>\n",
       "    .dataframe tbody tr th:only-of-type {\n",
       "        vertical-align: middle;\n",
       "    }\n",
       "\n",
       "    .dataframe tbody tr th {\n",
       "        vertical-align: top;\n",
       "    }\n",
       "\n",
       "    .dataframe thead th {\n",
       "        text-align: right;\n",
       "    }\n",
       "</style>\n",
       "<table border=\"1\" class=\"dataframe\">\n",
       "  <thead>\n",
       "    <tr style=\"text-align: right;\">\n",
       "      <th></th>\n",
       "      <th>columnA</th>\n",
       "      <th>columnB</th>\n",
       "      <th>columnC</th>\n",
       "      <th>columnD</th>\n",
       "    </tr>\n",
       "  </thead>\n",
       "  <tbody>\n",
       "    <tr>\n",
       "      <th>495</th>\n",
       "      <td>6</td>\n",
       "      <td>1</td>\n",
       "      <td>9</td>\n",
       "      <td>7</td>\n",
       "    </tr>\n",
       "    <tr>\n",
       "      <th>496</th>\n",
       "      <td>6</td>\n",
       "      <td>5</td>\n",
       "      <td>7</td>\n",
       "      <td>6</td>\n",
       "    </tr>\n",
       "    <tr>\n",
       "      <th>497</th>\n",
       "      <td>4</td>\n",
       "      <td>6</td>\n",
       "      <td>6</td>\n",
       "      <td>5</td>\n",
       "    </tr>\n",
       "    <tr>\n",
       "      <th>498</th>\n",
       "      <td>6</td>\n",
       "      <td>4</td>\n",
       "      <td>5</td>\n",
       "      <td>5</td>\n",
       "    </tr>\n",
       "    <tr>\n",
       "      <th>499</th>\n",
       "      <td>9</td>\n",
       "      <td>7</td>\n",
       "      <td>1</td>\n",
       "      <td>4</td>\n",
       "    </tr>\n",
       "  </tbody>\n",
       "</table>\n",
       "</div>"
      ],
      "text/plain": [
       "     columnA  columnB  columnC  columnD\n",
       "495        6        1        9        7\n",
       "496        6        5        7        6\n",
       "497        4        6        6        5\n",
       "498        6        4        5        5\n",
       "499        9        7        1        4"
      ]
     },
     "execution_count": 15,
     "metadata": {},
     "output_type": "execute_result"
    }
   ],
   "source": [
    "# View the last 5 rows of the DataFrame.\n",
    "# Your code here\n",
    "df.tail(5)"
   ]
  },
  {
   "cell_type": "markdown",
   "id": "4349d214",
   "metadata": {},
   "source": [
    "### <img src='images/exercise_icon.svg' alt=\"Exercise icon\" width=40 align=center> Exercise 4\n",
    "> Use `tail` to view the **last** `10` rows of `df`. (**Hint:** You can also provide an input argument `n` to the `tail` function to show the last `n` rows (instead of the default `5` rows))."
   ]
  },
  {
   "cell_type": "code",
   "execution_count": 16,
   "id": "50f56b56",
   "metadata": {
    "tags": []
   },
   "outputs": [
    {
     "data": {
      "text/html": [
       "<div>\n",
       "<style scoped>\n",
       "    .dataframe tbody tr th:only-of-type {\n",
       "        vertical-align: middle;\n",
       "    }\n",
       "\n",
       "    .dataframe tbody tr th {\n",
       "        vertical-align: top;\n",
       "    }\n",
       "\n",
       "    .dataframe thead th {\n",
       "        text-align: right;\n",
       "    }\n",
       "</style>\n",
       "<table border=\"1\" class=\"dataframe\">\n",
       "  <thead>\n",
       "    <tr style=\"text-align: right;\">\n",
       "      <th></th>\n",
       "      <th>columnA</th>\n",
       "      <th>columnB</th>\n",
       "      <th>columnC</th>\n",
       "      <th>columnD</th>\n",
       "    </tr>\n",
       "  </thead>\n",
       "  <tbody>\n",
       "    <tr>\n",
       "      <th>490</th>\n",
       "      <td>1</td>\n",
       "      <td>8</td>\n",
       "      <td>6</td>\n",
       "      <td>1</td>\n",
       "    </tr>\n",
       "    <tr>\n",
       "      <th>491</th>\n",
       "      <td>5</td>\n",
       "      <td>8</td>\n",
       "      <td>8</td>\n",
       "      <td>3</td>\n",
       "    </tr>\n",
       "    <tr>\n",
       "      <th>492</th>\n",
       "      <td>9</td>\n",
       "      <td>9</td>\n",
       "      <td>6</td>\n",
       "      <td>7</td>\n",
       "    </tr>\n",
       "    <tr>\n",
       "      <th>493</th>\n",
       "      <td>3</td>\n",
       "      <td>5</td>\n",
       "      <td>2</td>\n",
       "      <td>7</td>\n",
       "    </tr>\n",
       "    <tr>\n",
       "      <th>494</th>\n",
       "      <td>8</td>\n",
       "      <td>7</td>\n",
       "      <td>2</td>\n",
       "      <td>9</td>\n",
       "    </tr>\n",
       "    <tr>\n",
       "      <th>495</th>\n",
       "      <td>6</td>\n",
       "      <td>1</td>\n",
       "      <td>9</td>\n",
       "      <td>7</td>\n",
       "    </tr>\n",
       "    <tr>\n",
       "      <th>496</th>\n",
       "      <td>6</td>\n",
       "      <td>5</td>\n",
       "      <td>7</td>\n",
       "      <td>6</td>\n",
       "    </tr>\n",
       "    <tr>\n",
       "      <th>497</th>\n",
       "      <td>4</td>\n",
       "      <td>6</td>\n",
       "      <td>6</td>\n",
       "      <td>5</td>\n",
       "    </tr>\n",
       "    <tr>\n",
       "      <th>498</th>\n",
       "      <td>6</td>\n",
       "      <td>4</td>\n",
       "      <td>5</td>\n",
       "      <td>5</td>\n",
       "    </tr>\n",
       "    <tr>\n",
       "      <th>499</th>\n",
       "      <td>9</td>\n",
       "      <td>7</td>\n",
       "      <td>1</td>\n",
       "      <td>4</td>\n",
       "    </tr>\n",
       "  </tbody>\n",
       "</table>\n",
       "</div>"
      ],
      "text/plain": [
       "     columnA  columnB  columnC  columnD\n",
       "490        1        8        6        1\n",
       "491        5        8        8        3\n",
       "492        9        9        6        7\n",
       "493        3        5        2        7\n",
       "494        8        7        2        9\n",
       "495        6        1        9        7\n",
       "496        6        5        7        6\n",
       "497        4        6        6        5\n",
       "498        6        4        5        5\n",
       "499        9        7        1        4"
      ]
     },
     "execution_count": 16,
     "metadata": {},
     "output_type": "execute_result"
    }
   ],
   "source": [
    "# View only the last 10 rows of the DateFrame.\n",
    "# Your code here\n",
    "df.tail(10)"
   ]
  },
  {
   "cell_type": "markdown",
   "id": "2244b476",
   "metadata": {},
   "source": [
    "Now, let's see some ways to view a subset of a DateFrame's **columns**. \n",
    "\n",
    "**Reminder:** If the last line inside a code cell is simply a variable name, Jupyter will display the value of that variable."
   ]
  },
  {
   "cell_type": "markdown",
   "id": "b9e7fe38",
   "metadata": {},
   "source": [
    "For a given DateFrame `df` and desired column `col`, one way to view a single column is to write `df['col']`. (**Important:** the column name `col` must be in quotes!).\n",
    "\n",
    "### <img src='images/exercise_icon.svg' alt=\"Exercise icon\" width=40 align=center> Exercise 5\n",
    "> Use the above method to view the `gdpPercap_2007` column of our `df` DateFrame."
   ]
  },
  {
   "cell_type": "code",
   "execution_count": 20,
   "id": "cfad1032",
   "metadata": {
    "tags": []
   },
   "outputs": [
    {
     "data": {
      "text/html": [
       "<div>\n",
       "<style scoped>\n",
       "    .dataframe tbody tr th:only-of-type {\n",
       "        vertical-align: middle;\n",
       "    }\n",
       "\n",
       "    .dataframe tbody tr th {\n",
       "        vertical-align: top;\n",
       "    }\n",
       "\n",
       "    .dataframe thead th {\n",
       "        text-align: right;\n",
       "    }\n",
       "</style>\n",
       "<table border=\"1\" class=\"dataframe\">\n",
       "  <thead>\n",
       "    <tr style=\"text-align: right;\">\n",
       "      <th></th>\n",
       "      <th>continent</th>\n",
       "      <th>country</th>\n",
       "      <th>gdpPercap_1952</th>\n",
       "      <th>gdpPercap_1957</th>\n",
       "      <th>gdpPercap_1962</th>\n",
       "      <th>gdpPercap_1967</th>\n",
       "      <th>gdpPercap_1972</th>\n",
       "      <th>gdpPercap_1977</th>\n",
       "      <th>gdpPercap_1982</th>\n",
       "      <th>gdpPercap_1987</th>\n",
       "      <th>...</th>\n",
       "      <th>pop_1962</th>\n",
       "      <th>pop_1967</th>\n",
       "      <th>pop_1972</th>\n",
       "      <th>pop_1977</th>\n",
       "      <th>pop_1982</th>\n",
       "      <th>pop_1987</th>\n",
       "      <th>pop_1992</th>\n",
       "      <th>pop_1997</th>\n",
       "      <th>pop_2002</th>\n",
       "      <th>pop_2007</th>\n",
       "    </tr>\n",
       "  </thead>\n",
       "  <tbody>\n",
       "    <tr>\n",
       "      <th>0</th>\n",
       "      <td>Africa</td>\n",
       "      <td>Algeria</td>\n",
       "      <td>2449.008185</td>\n",
       "      <td>3013.976023</td>\n",
       "      <td>2550.816880</td>\n",
       "      <td>3246.991771</td>\n",
       "      <td>4182.663766</td>\n",
       "      <td>4910.416756</td>\n",
       "      <td>5745.160213</td>\n",
       "      <td>5681.358539</td>\n",
       "      <td>...</td>\n",
       "      <td>11000948.0</td>\n",
       "      <td>12760499.0</td>\n",
       "      <td>14760787.0</td>\n",
       "      <td>17152804.0</td>\n",
       "      <td>20033753.0</td>\n",
       "      <td>23254956.0</td>\n",
       "      <td>26298373.0</td>\n",
       "      <td>29072015.0</td>\n",
       "      <td>31287142</td>\n",
       "      <td>33333216</td>\n",
       "    </tr>\n",
       "    <tr>\n",
       "      <th>1</th>\n",
       "      <td>Africa</td>\n",
       "      <td>Angola</td>\n",
       "      <td>3520.610273</td>\n",
       "      <td>3827.940465</td>\n",
       "      <td>4269.276742</td>\n",
       "      <td>5522.776375</td>\n",
       "      <td>5473.288005</td>\n",
       "      <td>3008.647355</td>\n",
       "      <td>2756.953672</td>\n",
       "      <td>2430.208311</td>\n",
       "      <td>...</td>\n",
       "      <td>4826015.0</td>\n",
       "      <td>5247469.0</td>\n",
       "      <td>5894858.0</td>\n",
       "      <td>6162675.0</td>\n",
       "      <td>7016384.0</td>\n",
       "      <td>7874230.0</td>\n",
       "      <td>8735988.0</td>\n",
       "      <td>9875024.0</td>\n",
       "      <td>10866106</td>\n",
       "      <td>12420476</td>\n",
       "    </tr>\n",
       "    <tr>\n",
       "      <th>2</th>\n",
       "      <td>Africa</td>\n",
       "      <td>Benin</td>\n",
       "      <td>1062.752200</td>\n",
       "      <td>959.601080</td>\n",
       "      <td>949.499064</td>\n",
       "      <td>1035.831411</td>\n",
       "      <td>1085.796879</td>\n",
       "      <td>1029.161251</td>\n",
       "      <td>1277.897616</td>\n",
       "      <td>1225.856010</td>\n",
       "      <td>...</td>\n",
       "      <td>2151895.0</td>\n",
       "      <td>2427334.0</td>\n",
       "      <td>2761407.0</td>\n",
       "      <td>3168267.0</td>\n",
       "      <td>3641603.0</td>\n",
       "      <td>4243788.0</td>\n",
       "      <td>4981671.0</td>\n",
       "      <td>6066080.0</td>\n",
       "      <td>7026113</td>\n",
       "      <td>8078314</td>\n",
       "    </tr>\n",
       "    <tr>\n",
       "      <th>3</th>\n",
       "      <td>Africa</td>\n",
       "      <td>Botswana</td>\n",
       "      <td>851.241141</td>\n",
       "      <td>918.232535</td>\n",
       "      <td>983.653976</td>\n",
       "      <td>1214.709294</td>\n",
       "      <td>2263.611114</td>\n",
       "      <td>3214.857818</td>\n",
       "      <td>4551.142150</td>\n",
       "      <td>6205.883850</td>\n",
       "      <td>...</td>\n",
       "      <td>512764.0</td>\n",
       "      <td>553541.0</td>\n",
       "      <td>619351.0</td>\n",
       "      <td>781472.0</td>\n",
       "      <td>970347.0</td>\n",
       "      <td>1151184.0</td>\n",
       "      <td>1342614.0</td>\n",
       "      <td>1536536.0</td>\n",
       "      <td>1630347</td>\n",
       "      <td>1639131</td>\n",
       "    </tr>\n",
       "    <tr>\n",
       "      <th>4</th>\n",
       "      <td>Africa</td>\n",
       "      <td>Burkina Faso</td>\n",
       "      <td>543.255241</td>\n",
       "      <td>617.183465</td>\n",
       "      <td>722.512021</td>\n",
       "      <td>794.826560</td>\n",
       "      <td>854.735976</td>\n",
       "      <td>743.387037</td>\n",
       "      <td>807.198586</td>\n",
       "      <td>912.063142</td>\n",
       "      <td>...</td>\n",
       "      <td>4919632.0</td>\n",
       "      <td>5127935.0</td>\n",
       "      <td>5433886.0</td>\n",
       "      <td>5889574.0</td>\n",
       "      <td>6634596.0</td>\n",
       "      <td>7586551.0</td>\n",
       "      <td>8878303.0</td>\n",
       "      <td>10352843.0</td>\n",
       "      <td>12251209</td>\n",
       "      <td>14326203</td>\n",
       "    </tr>\n",
       "    <tr>\n",
       "      <th>...</th>\n",
       "      <td>...</td>\n",
       "      <td>...</td>\n",
       "      <td>...</td>\n",
       "      <td>...</td>\n",
       "      <td>...</td>\n",
       "      <td>...</td>\n",
       "      <td>...</td>\n",
       "      <td>...</td>\n",
       "      <td>...</td>\n",
       "      <td>...</td>\n",
       "      <td>...</td>\n",
       "      <td>...</td>\n",
       "      <td>...</td>\n",
       "      <td>...</td>\n",
       "      <td>...</td>\n",
       "      <td>...</td>\n",
       "      <td>...</td>\n",
       "      <td>...</td>\n",
       "      <td>...</td>\n",
       "      <td>...</td>\n",
       "      <td>...</td>\n",
       "    </tr>\n",
       "    <tr>\n",
       "      <th>137</th>\n",
       "      <td>Europe</td>\n",
       "      <td>Switzerland</td>\n",
       "      <td>14734.232750</td>\n",
       "      <td>17909.489730</td>\n",
       "      <td>20431.092700</td>\n",
       "      <td>22966.144320</td>\n",
       "      <td>27195.113040</td>\n",
       "      <td>26982.290520</td>\n",
       "      <td>28397.715120</td>\n",
       "      <td>30281.704590</td>\n",
       "      <td>...</td>\n",
       "      <td>5666000.0</td>\n",
       "      <td>6063000.0</td>\n",
       "      <td>6401400.0</td>\n",
       "      <td>6316424.0</td>\n",
       "      <td>6468126.0</td>\n",
       "      <td>6649942.0</td>\n",
       "      <td>6995447.0</td>\n",
       "      <td>7193761.0</td>\n",
       "      <td>7361757</td>\n",
       "      <td>7554661</td>\n",
       "    </tr>\n",
       "    <tr>\n",
       "      <th>138</th>\n",
       "      <td>Europe</td>\n",
       "      <td>Turkey</td>\n",
       "      <td>1969.100980</td>\n",
       "      <td>2218.754257</td>\n",
       "      <td>2322.869908</td>\n",
       "      <td>2826.356387</td>\n",
       "      <td>3450.696380</td>\n",
       "      <td>4269.122326</td>\n",
       "      <td>4241.356344</td>\n",
       "      <td>5089.043686</td>\n",
       "      <td>...</td>\n",
       "      <td>29788695.0</td>\n",
       "      <td>33411317.0</td>\n",
       "      <td>37492953.0</td>\n",
       "      <td>42404033.0</td>\n",
       "      <td>47328791.0</td>\n",
       "      <td>52881328.0</td>\n",
       "      <td>58179144.0</td>\n",
       "      <td>63047647.0</td>\n",
       "      <td>67308928</td>\n",
       "      <td>71158647</td>\n",
       "    </tr>\n",
       "    <tr>\n",
       "      <th>139</th>\n",
       "      <td>Europe</td>\n",
       "      <td>United Kingdom</td>\n",
       "      <td>9979.508487</td>\n",
       "      <td>11283.177950</td>\n",
       "      <td>12477.177070</td>\n",
       "      <td>14142.850890</td>\n",
       "      <td>15895.116410</td>\n",
       "      <td>17428.748460</td>\n",
       "      <td>18232.424520</td>\n",
       "      <td>21664.787670</td>\n",
       "      <td>...</td>\n",
       "      <td>53292000.0</td>\n",
       "      <td>54959000.0</td>\n",
       "      <td>56079000.0</td>\n",
       "      <td>56179000.0</td>\n",
       "      <td>56339704.0</td>\n",
       "      <td>56981620.0</td>\n",
       "      <td>57866349.0</td>\n",
       "      <td>58808266.0</td>\n",
       "      <td>59912431</td>\n",
       "      <td>60776238</td>\n",
       "    </tr>\n",
       "    <tr>\n",
       "      <th>140</th>\n",
       "      <td>Oceania</td>\n",
       "      <td>Australia</td>\n",
       "      <td>10039.595640</td>\n",
       "      <td>10949.649590</td>\n",
       "      <td>12217.226860</td>\n",
       "      <td>14526.124650</td>\n",
       "      <td>16788.629480</td>\n",
       "      <td>18334.197510</td>\n",
       "      <td>19477.009280</td>\n",
       "      <td>21888.889030</td>\n",
       "      <td>...</td>\n",
       "      <td>10794968.0</td>\n",
       "      <td>11872264.0</td>\n",
       "      <td>13177000.0</td>\n",
       "      <td>14074100.0</td>\n",
       "      <td>15184200.0</td>\n",
       "      <td>16257249.0</td>\n",
       "      <td>17481977.0</td>\n",
       "      <td>18565243.0</td>\n",
       "      <td>19546792</td>\n",
       "      <td>20434176</td>\n",
       "    </tr>\n",
       "    <tr>\n",
       "      <th>141</th>\n",
       "      <td>Oceania</td>\n",
       "      <td>New Zealand</td>\n",
       "      <td>10556.575660</td>\n",
       "      <td>12247.395320</td>\n",
       "      <td>13175.678000</td>\n",
       "      <td>14463.918930</td>\n",
       "      <td>16046.037280</td>\n",
       "      <td>16233.717700</td>\n",
       "      <td>17632.410400</td>\n",
       "      <td>19007.191290</td>\n",
       "      <td>...</td>\n",
       "      <td>2488550.0</td>\n",
       "      <td>2728150.0</td>\n",
       "      <td>2929100.0</td>\n",
       "      <td>3164900.0</td>\n",
       "      <td>3210650.0</td>\n",
       "      <td>3317166.0</td>\n",
       "      <td>3437674.0</td>\n",
       "      <td>3676187.0</td>\n",
       "      <td>3908037</td>\n",
       "      <td>4115771</td>\n",
       "    </tr>\n",
       "  </tbody>\n",
       "</table>\n",
       "<p>142 rows × 38 columns</p>\n",
       "</div>"
      ],
      "text/plain": [
       "    continent         country  gdpPercap_1952  gdpPercap_1957  gdpPercap_1962  \\\n",
       "0      Africa         Algeria     2449.008185     3013.976023     2550.816880   \n",
       "1      Africa          Angola     3520.610273     3827.940465     4269.276742   \n",
       "2      Africa           Benin     1062.752200      959.601080      949.499064   \n",
       "3      Africa        Botswana      851.241141      918.232535      983.653976   \n",
       "4      Africa    Burkina Faso      543.255241      617.183465      722.512021   \n",
       "..        ...             ...             ...             ...             ...   \n",
       "137    Europe     Switzerland    14734.232750    17909.489730    20431.092700   \n",
       "138    Europe          Turkey     1969.100980     2218.754257     2322.869908   \n",
       "139    Europe  United Kingdom     9979.508487    11283.177950    12477.177070   \n",
       "140   Oceania       Australia    10039.595640    10949.649590    12217.226860   \n",
       "141   Oceania     New Zealand    10556.575660    12247.395320    13175.678000   \n",
       "\n",
       "     gdpPercap_1967  gdpPercap_1972  gdpPercap_1977  gdpPercap_1982  \\\n",
       "0       3246.991771     4182.663766     4910.416756     5745.160213   \n",
       "1       5522.776375     5473.288005     3008.647355     2756.953672   \n",
       "2       1035.831411     1085.796879     1029.161251     1277.897616   \n",
       "3       1214.709294     2263.611114     3214.857818     4551.142150   \n",
       "4        794.826560      854.735976      743.387037      807.198586   \n",
       "..              ...             ...             ...             ...   \n",
       "137    22966.144320    27195.113040    26982.290520    28397.715120   \n",
       "138     2826.356387     3450.696380     4269.122326     4241.356344   \n",
       "139    14142.850890    15895.116410    17428.748460    18232.424520   \n",
       "140    14526.124650    16788.629480    18334.197510    19477.009280   \n",
       "141    14463.918930    16046.037280    16233.717700    17632.410400   \n",
       "\n",
       "     gdpPercap_1987  ...    pop_1962    pop_1967    pop_1972    pop_1977  \\\n",
       "0       5681.358539  ...  11000948.0  12760499.0  14760787.0  17152804.0   \n",
       "1       2430.208311  ...   4826015.0   5247469.0   5894858.0   6162675.0   \n",
       "2       1225.856010  ...   2151895.0   2427334.0   2761407.0   3168267.0   \n",
       "3       6205.883850  ...    512764.0    553541.0    619351.0    781472.0   \n",
       "4        912.063142  ...   4919632.0   5127935.0   5433886.0   5889574.0   \n",
       "..              ...  ...         ...         ...         ...         ...   \n",
       "137    30281.704590  ...   5666000.0   6063000.0   6401400.0   6316424.0   \n",
       "138     5089.043686  ...  29788695.0  33411317.0  37492953.0  42404033.0   \n",
       "139    21664.787670  ...  53292000.0  54959000.0  56079000.0  56179000.0   \n",
       "140    21888.889030  ...  10794968.0  11872264.0  13177000.0  14074100.0   \n",
       "141    19007.191290  ...   2488550.0   2728150.0   2929100.0   3164900.0   \n",
       "\n",
       "       pop_1982    pop_1987    pop_1992    pop_1997  pop_2002  pop_2007  \n",
       "0    20033753.0  23254956.0  26298373.0  29072015.0  31287142  33333216  \n",
       "1     7016384.0   7874230.0   8735988.0   9875024.0  10866106  12420476  \n",
       "2     3641603.0   4243788.0   4981671.0   6066080.0   7026113   8078314  \n",
       "3      970347.0   1151184.0   1342614.0   1536536.0   1630347   1639131  \n",
       "4     6634596.0   7586551.0   8878303.0  10352843.0  12251209  14326203  \n",
       "..          ...         ...         ...         ...       ...       ...  \n",
       "137   6468126.0   6649942.0   6995447.0   7193761.0   7361757   7554661  \n",
       "138  47328791.0  52881328.0  58179144.0  63047647.0  67308928  71158647  \n",
       "139  56339704.0  56981620.0  57866349.0  58808266.0  59912431  60776238  \n",
       "140  15184200.0  16257249.0  17481977.0  18565243.0  19546792  20434176  \n",
       "141   3210650.0   3317166.0   3437674.0   3676187.0   3908037   4115771  \n",
       "\n",
       "[142 rows x 38 columns]"
      ]
     },
     "execution_count": 20,
     "metadata": {},
     "output_type": "execute_result"
    }
   ],
   "source": [
    "# View the gdpPercap_2007 column of the DateFrame.\n",
    "# Your code here\n",
    "url='https://raw.githubusercontent.com/PracticumAI/python-for-ai/main/data/gapminder_all.csv' # Direct link to the dataset on GitHub\n",
    "df = pd.read_csv(url) # Create the DataFrame from the given URL\n",
    "df # View the DateFrame we just created"
   ]
  },
  {
   "cell_type": "markdown",
   "id": "68ec6a34",
   "metadata": {},
   "source": [
    "We can also adapt this method to view multiple columns. Instead of passing in a single string column name `'C'`, we will pass in a **list** of string column names, e.g. `['A', 'B', 'C']`. For example: `df[['A', 'B', 'C']]` \n",
    "\n",
    "### <img src='images/note_icon.svg' alt=\"Note icon\" width=40 align=center> Note\n",
    "> **Important:** Notice the double brackets! DataFrames use a similar syntax as lists. To get a single column, we can use the column's name: e.g., `df['A']` would give us column A. Here, we want multiple columns, so a list of column names is provided.\n",
    "\n",
    "### <img src='images/exercise_icon.svg' alt=\"Exercise icon\" width=40 align=center> Exercise 6\n",
    "> Use the above method to view the `gdpPercap_2007`, `lifeExp_2007`, and `pop_2007` columns of our `df` DateFrame."
   ]
  },
  {
   "cell_type": "code",
   "execution_count": 28,
   "id": "f15bb025",
   "metadata": {
    "tags": []
   },
   "outputs": [
    {
     "ename": "KeyError",
     "evalue": "\"None of [Index(['A', 'B', 'C'], dtype='object')] are in the [columns]\"",
     "output_type": "error",
     "traceback": [
      "\u001b[0;31m---------------------------------------------------------------------------\u001b[0m",
      "\u001b[0;31mKeyError\u001b[0m                                  Traceback (most recent call last)",
      "Cell \u001b[0;32mIn[28], line 4\u001b[0m\n\u001b[1;32m      1\u001b[0m \u001b[38;5;66;03m# Display the columns `gdpPercap_2007`, `lifeExp_2007`, and `pop_2007`\u001b[39;00m\n\u001b[1;32m      2\u001b[0m \u001b[38;5;66;03m# Your code here\u001b[39;00m\n\u001b[1;32m      3\u001b[0m url\u001b[38;5;241m=\u001b[39m\u001b[38;5;124m'\u001b[39m\u001b[38;5;124mhttps://raw.githubusercontent.com/PracticumAI/python-for-ai/main/data/gapminder_all.csv\u001b[39m\u001b[38;5;124m'\u001b[39m \u001b[38;5;66;03m# Direct link to the dataset on GitHub\u001b[39;00m\n\u001b[0;32m----> 4\u001b[0m \u001b[43mdf\u001b[49m\u001b[43m[\u001b[49m\u001b[43m[\u001b[49m\u001b[38;5;124;43m'\u001b[39;49m\u001b[38;5;124;43mA\u001b[39;49m\u001b[38;5;124;43m'\u001b[39;49m\u001b[43m,\u001b[49m\u001b[38;5;124;43m'\u001b[39;49m\u001b[38;5;124;43mB\u001b[39;49m\u001b[38;5;124;43m'\u001b[39;49m\u001b[43m,\u001b[49m\u001b[38;5;124;43m'\u001b[39;49m\u001b[38;5;124;43mC\u001b[39;49m\u001b[38;5;124;43m'\u001b[39;49m\u001b[43m]\u001b[49m\u001b[43m]\u001b[49m \u001b[38;5;66;03m# Create the DataFrame from the given URL\u001b[39;00m\n\u001b[1;32m      5\u001b[0m df\n",
      "File \u001b[0;32m/apps/python/3.10/lib/python3.10/site-packages/pandas/core/frame.py:3767\u001b[0m, in \u001b[0;36mDataFrame.__getitem__\u001b[0;34m(self, key)\u001b[0m\n\u001b[1;32m   3765\u001b[0m     \u001b[38;5;28;01mif\u001b[39;00m is_iterator(key):\n\u001b[1;32m   3766\u001b[0m         key \u001b[38;5;241m=\u001b[39m \u001b[38;5;28mlist\u001b[39m(key)\n\u001b[0;32m-> 3767\u001b[0m     indexer \u001b[38;5;241m=\u001b[39m \u001b[38;5;28;43mself\u001b[39;49m\u001b[38;5;241;43m.\u001b[39;49m\u001b[43mcolumns\u001b[49m\u001b[38;5;241;43m.\u001b[39;49m\u001b[43m_get_indexer_strict\u001b[49m\u001b[43m(\u001b[49m\u001b[43mkey\u001b[49m\u001b[43m,\u001b[49m\u001b[43m \u001b[49m\u001b[38;5;124;43m\"\u001b[39;49m\u001b[38;5;124;43mcolumns\u001b[39;49m\u001b[38;5;124;43m\"\u001b[39;49m\u001b[43m)\u001b[49m[\u001b[38;5;241m1\u001b[39m]\n\u001b[1;32m   3769\u001b[0m \u001b[38;5;66;03m# take() does not accept boolean indexers\u001b[39;00m\n\u001b[1;32m   3770\u001b[0m \u001b[38;5;28;01mif\u001b[39;00m \u001b[38;5;28mgetattr\u001b[39m(indexer, \u001b[38;5;124m\"\u001b[39m\u001b[38;5;124mdtype\u001b[39m\u001b[38;5;124m\"\u001b[39m, \u001b[38;5;28;01mNone\u001b[39;00m) \u001b[38;5;241m==\u001b[39m \u001b[38;5;28mbool\u001b[39m:\n",
      "File \u001b[0;32m/apps/python/3.10/lib/python3.10/site-packages/pandas/core/indexes/base.py:5877\u001b[0m, in \u001b[0;36mIndex._get_indexer_strict\u001b[0;34m(self, key, axis_name)\u001b[0m\n\u001b[1;32m   5874\u001b[0m \u001b[38;5;28;01melse\u001b[39;00m:\n\u001b[1;32m   5875\u001b[0m     keyarr, indexer, new_indexer \u001b[38;5;241m=\u001b[39m \u001b[38;5;28mself\u001b[39m\u001b[38;5;241m.\u001b[39m_reindex_non_unique(keyarr)\n\u001b[0;32m-> 5877\u001b[0m \u001b[38;5;28;43mself\u001b[39;49m\u001b[38;5;241;43m.\u001b[39;49m\u001b[43m_raise_if_missing\u001b[49m\u001b[43m(\u001b[49m\u001b[43mkeyarr\u001b[49m\u001b[43m,\u001b[49m\u001b[43m \u001b[49m\u001b[43mindexer\u001b[49m\u001b[43m,\u001b[49m\u001b[43m \u001b[49m\u001b[43maxis_name\u001b[49m\u001b[43m)\u001b[49m\n\u001b[1;32m   5879\u001b[0m keyarr \u001b[38;5;241m=\u001b[39m \u001b[38;5;28mself\u001b[39m\u001b[38;5;241m.\u001b[39mtake(indexer)\n\u001b[1;32m   5880\u001b[0m \u001b[38;5;28;01mif\u001b[39;00m \u001b[38;5;28misinstance\u001b[39m(key, Index):\n\u001b[1;32m   5881\u001b[0m     \u001b[38;5;66;03m# GH 42790 - Preserve name from an Index\u001b[39;00m\n",
      "File \u001b[0;32m/apps/python/3.10/lib/python3.10/site-packages/pandas/core/indexes/base.py:5938\u001b[0m, in \u001b[0;36mIndex._raise_if_missing\u001b[0;34m(self, key, indexer, axis_name)\u001b[0m\n\u001b[1;32m   5936\u001b[0m     \u001b[38;5;28;01mif\u001b[39;00m use_interval_msg:\n\u001b[1;32m   5937\u001b[0m         key \u001b[38;5;241m=\u001b[39m \u001b[38;5;28mlist\u001b[39m(key)\n\u001b[0;32m-> 5938\u001b[0m     \u001b[38;5;28;01mraise\u001b[39;00m \u001b[38;5;167;01mKeyError\u001b[39;00m(\u001b[38;5;124mf\u001b[39m\u001b[38;5;124m\"\u001b[39m\u001b[38;5;124mNone of [\u001b[39m\u001b[38;5;132;01m{\u001b[39;00mkey\u001b[38;5;132;01m}\u001b[39;00m\u001b[38;5;124m] are in the [\u001b[39m\u001b[38;5;132;01m{\u001b[39;00maxis_name\u001b[38;5;132;01m}\u001b[39;00m\u001b[38;5;124m]\u001b[39m\u001b[38;5;124m\"\u001b[39m)\n\u001b[1;32m   5940\u001b[0m not_found \u001b[38;5;241m=\u001b[39m \u001b[38;5;28mlist\u001b[39m(ensure_index(key)[missing_mask\u001b[38;5;241m.\u001b[39mnonzero()[\u001b[38;5;241m0\u001b[39m]]\u001b[38;5;241m.\u001b[39munique())\n\u001b[1;32m   5941\u001b[0m \u001b[38;5;28;01mraise\u001b[39;00m \u001b[38;5;167;01mKeyError\u001b[39;00m(\u001b[38;5;124mf\u001b[39m\u001b[38;5;124m\"\u001b[39m\u001b[38;5;132;01m{\u001b[39;00mnot_found\u001b[38;5;132;01m}\u001b[39;00m\u001b[38;5;124m not in index\u001b[39m\u001b[38;5;124m\"\u001b[39m)\n",
      "\u001b[0;31mKeyError\u001b[0m: \"None of [Index(['A', 'B', 'C'], dtype='object')] are in the [columns]\""
     ]
    }
   ],
   "source": [
    "# Display the columns `gdpPercap_2007`, `lifeExp_2007`, and `pop_2007`\n",
    "# Your code here\n",
    "url='https://raw.githubusercontent.com/PracticumAI/python-for-ai/main/data/gapminder_all.csv' # Direct link to the dataset on GitHub\n",
    "df[['A','B','C']] # Create the DataFrame from the given URL\n",
    "df # View the DateFrame we just created"
   ]
  },
  {
   "cell_type": "markdown",
   "id": "afc5dec7",
   "metadata": {
    "id": "afc5dec7"
   },
   "source": [
    "## Creating new columns \n",
    "\n",
    "* We can easily create new columns in an existing DateFrame.\n",
    "* When we use mathematical operations as below, they will be applied to every element of the Series.\n",
    "* This way, we can create new columns from different combinations of existing ones.\n",
    "\n",
    "Let's use an equation to calculate the change in GDP from 1962 to 2007."
   ]
  },
  {
   "cell_type": "code",
   "execution_count": 32,
   "id": "107af062",
   "metadata": {
    "colab": {
     "base_uri": "https://localhost:8080/",
     "height": 206
    },
    "id": "107af062",
    "outputId": "de3188a0-fc49-4c70-e8e0-1b6a9b193380",
    "tags": []
   },
   "outputs": [
    {
     "data": {
      "text/html": [
       "<div>\n",
       "<style scoped>\n",
       "    .dataframe tbody tr th:only-of-type {\n",
       "        vertical-align: middle;\n",
       "    }\n",
       "\n",
       "    .dataframe tbody tr th {\n",
       "        vertical-align: top;\n",
       "    }\n",
       "\n",
       "    .dataframe thead th {\n",
       "        text-align: right;\n",
       "    }\n",
       "</style>\n",
       "<table border=\"1\" class=\"dataframe\">\n",
       "  <thead>\n",
       "    <tr style=\"text-align: right;\">\n",
       "      <th></th>\n",
       "      <th>continent</th>\n",
       "      <th>country</th>\n",
       "      <th>gdpPercap_1952</th>\n",
       "      <th>gdpPercap_1957</th>\n",
       "      <th>gdpPercap_1962</th>\n",
       "      <th>gdpPercap_1967</th>\n",
       "      <th>gdpPercap_1972</th>\n",
       "      <th>gdpPercap_1977</th>\n",
       "      <th>gdpPercap_1982</th>\n",
       "      <th>gdpPercap_1987</th>\n",
       "      <th>...</th>\n",
       "      <th>pop_1967</th>\n",
       "      <th>pop_1972</th>\n",
       "      <th>pop_1977</th>\n",
       "      <th>pop_1982</th>\n",
       "      <th>pop_1987</th>\n",
       "      <th>pop_1992</th>\n",
       "      <th>pop_1997</th>\n",
       "      <th>pop_2002</th>\n",
       "      <th>pop_2007</th>\n",
       "      <th>gdp_change</th>\n",
       "    </tr>\n",
       "  </thead>\n",
       "  <tbody>\n",
       "    <tr>\n",
       "      <th>0</th>\n",
       "      <td>Africa</td>\n",
       "      <td>Algeria</td>\n",
       "      <td>2449.008185</td>\n",
       "      <td>3013.976023</td>\n",
       "      <td>2550.816880</td>\n",
       "      <td>3246.991771</td>\n",
       "      <td>4182.663766</td>\n",
       "      <td>4910.416756</td>\n",
       "      <td>5745.160213</td>\n",
       "      <td>5681.358539</td>\n",
       "      <td>...</td>\n",
       "      <td>12760499.0</td>\n",
       "      <td>14760787.0</td>\n",
       "      <td>17152804.0</td>\n",
       "      <td>20033753.0</td>\n",
       "      <td>23254956.0</td>\n",
       "      <td>26298373.0</td>\n",
       "      <td>29072015.0</td>\n",
       "      <td>31287142</td>\n",
       "      <td>33333216</td>\n",
       "      <td>-3672.550585</td>\n",
       "    </tr>\n",
       "    <tr>\n",
       "      <th>1</th>\n",
       "      <td>Africa</td>\n",
       "      <td>Angola</td>\n",
       "      <td>3520.610273</td>\n",
       "      <td>3827.940465</td>\n",
       "      <td>4269.276742</td>\n",
       "      <td>5522.776375</td>\n",
       "      <td>5473.288005</td>\n",
       "      <td>3008.647355</td>\n",
       "      <td>2756.953672</td>\n",
       "      <td>2430.208311</td>\n",
       "      <td>...</td>\n",
       "      <td>5247469.0</td>\n",
       "      <td>5894858.0</td>\n",
       "      <td>6162675.0</td>\n",
       "      <td>7016384.0</td>\n",
       "      <td>7874230.0</td>\n",
       "      <td>8735988.0</td>\n",
       "      <td>9875024.0</td>\n",
       "      <td>10866106</td>\n",
       "      <td>12420476</td>\n",
       "      <td>-527.954525</td>\n",
       "    </tr>\n",
       "    <tr>\n",
       "      <th>2</th>\n",
       "      <td>Africa</td>\n",
       "      <td>Benin</td>\n",
       "      <td>1062.752200</td>\n",
       "      <td>959.601080</td>\n",
       "      <td>949.499064</td>\n",
       "      <td>1035.831411</td>\n",
       "      <td>1085.796879</td>\n",
       "      <td>1029.161251</td>\n",
       "      <td>1277.897616</td>\n",
       "      <td>1225.856010</td>\n",
       "      <td>...</td>\n",
       "      <td>2427334.0</td>\n",
       "      <td>2761407.0</td>\n",
       "      <td>3168267.0</td>\n",
       "      <td>3641603.0</td>\n",
       "      <td>4243788.0</td>\n",
       "      <td>4981671.0</td>\n",
       "      <td>6066080.0</td>\n",
       "      <td>7026113</td>\n",
       "      <td>8078314</td>\n",
       "      <td>-491.785809</td>\n",
       "    </tr>\n",
       "    <tr>\n",
       "      <th>3</th>\n",
       "      <td>Africa</td>\n",
       "      <td>Botswana</td>\n",
       "      <td>851.241141</td>\n",
       "      <td>918.232535</td>\n",
       "      <td>983.653976</td>\n",
       "      <td>1214.709294</td>\n",
       "      <td>2263.611114</td>\n",
       "      <td>3214.857818</td>\n",
       "      <td>4551.142150</td>\n",
       "      <td>6205.883850</td>\n",
       "      <td>...</td>\n",
       "      <td>553541.0</td>\n",
       "      <td>619351.0</td>\n",
       "      <td>781472.0</td>\n",
       "      <td>970347.0</td>\n",
       "      <td>1151184.0</td>\n",
       "      <td>1342614.0</td>\n",
       "      <td>1536536.0</td>\n",
       "      <td>1630347</td>\n",
       "      <td>1639131</td>\n",
       "      <td>-11586.197794</td>\n",
       "    </tr>\n",
       "    <tr>\n",
       "      <th>4</th>\n",
       "      <td>Africa</td>\n",
       "      <td>Burkina Faso</td>\n",
       "      <td>543.255241</td>\n",
       "      <td>617.183465</td>\n",
       "      <td>722.512021</td>\n",
       "      <td>794.826560</td>\n",
       "      <td>854.735976</td>\n",
       "      <td>743.387037</td>\n",
       "      <td>807.198586</td>\n",
       "      <td>912.063142</td>\n",
       "      <td>...</td>\n",
       "      <td>5127935.0</td>\n",
       "      <td>5433886.0</td>\n",
       "      <td>5889574.0</td>\n",
       "      <td>6634596.0</td>\n",
       "      <td>7586551.0</td>\n",
       "      <td>8878303.0</td>\n",
       "      <td>10352843.0</td>\n",
       "      <td>12251209</td>\n",
       "      <td>14326203</td>\n",
       "      <td>-494.520973</td>\n",
       "    </tr>\n",
       "  </tbody>\n",
       "</table>\n",
       "<p>5 rows × 39 columns</p>\n",
       "</div>"
      ],
      "text/plain": [
       "  continent       country  gdpPercap_1952  gdpPercap_1957  gdpPercap_1962  \\\n",
       "0    Africa       Algeria     2449.008185     3013.976023     2550.816880   \n",
       "1    Africa        Angola     3520.610273     3827.940465     4269.276742   \n",
       "2    Africa         Benin     1062.752200      959.601080      949.499064   \n",
       "3    Africa      Botswana      851.241141      918.232535      983.653976   \n",
       "4    Africa  Burkina Faso      543.255241      617.183465      722.512021   \n",
       "\n",
       "   gdpPercap_1967  gdpPercap_1972  gdpPercap_1977  gdpPercap_1982  \\\n",
       "0     3246.991771     4182.663766     4910.416756     5745.160213   \n",
       "1     5522.776375     5473.288005     3008.647355     2756.953672   \n",
       "2     1035.831411     1085.796879     1029.161251     1277.897616   \n",
       "3     1214.709294     2263.611114     3214.857818     4551.142150   \n",
       "4      794.826560      854.735976      743.387037      807.198586   \n",
       "\n",
       "   gdpPercap_1987  ...    pop_1967    pop_1972    pop_1977    pop_1982  \\\n",
       "0     5681.358539  ...  12760499.0  14760787.0  17152804.0  20033753.0   \n",
       "1     2430.208311  ...   5247469.0   5894858.0   6162675.0   7016384.0   \n",
       "2     1225.856010  ...   2427334.0   2761407.0   3168267.0   3641603.0   \n",
       "3     6205.883850  ...    553541.0    619351.0    781472.0    970347.0   \n",
       "4      912.063142  ...   5127935.0   5433886.0   5889574.0   6634596.0   \n",
       "\n",
       "     pop_1987    pop_1992    pop_1997  pop_2002  pop_2007    gdp_change  \n",
       "0  23254956.0  26298373.0  29072015.0  31287142  33333216  -3672.550585  \n",
       "1   7874230.0   8735988.0   9875024.0  10866106  12420476   -527.954525  \n",
       "2   4243788.0   4981671.0   6066080.0   7026113   8078314   -491.785809  \n",
       "3   1151184.0   1342614.0   1536536.0   1630347   1639131 -11586.197794  \n",
       "4   7586551.0   8878303.0  10352843.0  12251209  14326203   -494.520973  \n",
       "\n",
       "[5 rows x 39 columns]"
      ]
     },
     "execution_count": 32,
     "metadata": {},
     "output_type": "execute_result"
    }
   ],
   "source": [
    "df['gdp_change'] = (df['gdpPercap_1962'] - df['gdpPercap_2007'])\n",
    "df.head()"
   ]
  },
  {
   "cell_type": "markdown",
   "id": "3ebe98a4",
   "metadata": {
    "id": "3ebe98a4"
   },
   "source": [
    "## Deleting columns \n",
    "\n",
    "We can also **drop** (delete) columns.\n",
    "\n",
    "Let's remove the `gdp_change` column that we previously created."
   ]
  },
  {
   "cell_type": "code",
   "execution_count": 33,
   "id": "48b57eaa",
   "metadata": {
    "colab": {
     "base_uri": "https://localhost:8080/",
     "height": 206
    },
    "id": "48b57eaa",
    "outputId": "e4ff3c3c-e3a6-4499-c406-ad3e4afad251",
    "tags": []
   },
   "outputs": [
    {
     "data": {
      "text/html": [
       "<div>\n",
       "<style scoped>\n",
       "    .dataframe tbody tr th:only-of-type {\n",
       "        vertical-align: middle;\n",
       "    }\n",
       "\n",
       "    .dataframe tbody tr th {\n",
       "        vertical-align: top;\n",
       "    }\n",
       "\n",
       "    .dataframe thead th {\n",
       "        text-align: right;\n",
       "    }\n",
       "</style>\n",
       "<table border=\"1\" class=\"dataframe\">\n",
       "  <thead>\n",
       "    <tr style=\"text-align: right;\">\n",
       "      <th></th>\n",
       "      <th>continent</th>\n",
       "      <th>country</th>\n",
       "      <th>gdpPercap_1952</th>\n",
       "      <th>gdpPercap_1957</th>\n",
       "      <th>gdpPercap_1962</th>\n",
       "      <th>gdpPercap_1967</th>\n",
       "      <th>gdpPercap_1972</th>\n",
       "      <th>gdpPercap_1977</th>\n",
       "      <th>gdpPercap_1982</th>\n",
       "      <th>gdpPercap_1987</th>\n",
       "      <th>...</th>\n",
       "      <th>pop_1967</th>\n",
       "      <th>pop_1972</th>\n",
       "      <th>pop_1977</th>\n",
       "      <th>pop_1982</th>\n",
       "      <th>pop_1987</th>\n",
       "      <th>pop_1992</th>\n",
       "      <th>pop_1997</th>\n",
       "      <th>pop_2002</th>\n",
       "      <th>pop_2007</th>\n",
       "      <th>gdp_change</th>\n",
       "    </tr>\n",
       "  </thead>\n",
       "  <tbody>\n",
       "    <tr>\n",
       "      <th>0</th>\n",
       "      <td>Africa</td>\n",
       "      <td>Algeria</td>\n",
       "      <td>2449.008185</td>\n",
       "      <td>3013.976023</td>\n",
       "      <td>2550.816880</td>\n",
       "      <td>3246.991771</td>\n",
       "      <td>4182.663766</td>\n",
       "      <td>4910.416756</td>\n",
       "      <td>5745.160213</td>\n",
       "      <td>5681.358539</td>\n",
       "      <td>...</td>\n",
       "      <td>12760499.0</td>\n",
       "      <td>14760787.0</td>\n",
       "      <td>17152804.0</td>\n",
       "      <td>20033753.0</td>\n",
       "      <td>23254956.0</td>\n",
       "      <td>26298373.0</td>\n",
       "      <td>29072015.0</td>\n",
       "      <td>31287142</td>\n",
       "      <td>33333216</td>\n",
       "      <td>-3672.550585</td>\n",
       "    </tr>\n",
       "    <tr>\n",
       "      <th>1</th>\n",
       "      <td>Africa</td>\n",
       "      <td>Angola</td>\n",
       "      <td>3520.610273</td>\n",
       "      <td>3827.940465</td>\n",
       "      <td>4269.276742</td>\n",
       "      <td>5522.776375</td>\n",
       "      <td>5473.288005</td>\n",
       "      <td>3008.647355</td>\n",
       "      <td>2756.953672</td>\n",
       "      <td>2430.208311</td>\n",
       "      <td>...</td>\n",
       "      <td>5247469.0</td>\n",
       "      <td>5894858.0</td>\n",
       "      <td>6162675.0</td>\n",
       "      <td>7016384.0</td>\n",
       "      <td>7874230.0</td>\n",
       "      <td>8735988.0</td>\n",
       "      <td>9875024.0</td>\n",
       "      <td>10866106</td>\n",
       "      <td>12420476</td>\n",
       "      <td>-527.954525</td>\n",
       "    </tr>\n",
       "    <tr>\n",
       "      <th>2</th>\n",
       "      <td>Africa</td>\n",
       "      <td>Benin</td>\n",
       "      <td>1062.752200</td>\n",
       "      <td>959.601080</td>\n",
       "      <td>949.499064</td>\n",
       "      <td>1035.831411</td>\n",
       "      <td>1085.796879</td>\n",
       "      <td>1029.161251</td>\n",
       "      <td>1277.897616</td>\n",
       "      <td>1225.856010</td>\n",
       "      <td>...</td>\n",
       "      <td>2427334.0</td>\n",
       "      <td>2761407.0</td>\n",
       "      <td>3168267.0</td>\n",
       "      <td>3641603.0</td>\n",
       "      <td>4243788.0</td>\n",
       "      <td>4981671.0</td>\n",
       "      <td>6066080.0</td>\n",
       "      <td>7026113</td>\n",
       "      <td>8078314</td>\n",
       "      <td>-491.785809</td>\n",
       "    </tr>\n",
       "    <tr>\n",
       "      <th>3</th>\n",
       "      <td>Africa</td>\n",
       "      <td>Botswana</td>\n",
       "      <td>851.241141</td>\n",
       "      <td>918.232535</td>\n",
       "      <td>983.653976</td>\n",
       "      <td>1214.709294</td>\n",
       "      <td>2263.611114</td>\n",
       "      <td>3214.857818</td>\n",
       "      <td>4551.142150</td>\n",
       "      <td>6205.883850</td>\n",
       "      <td>...</td>\n",
       "      <td>553541.0</td>\n",
       "      <td>619351.0</td>\n",
       "      <td>781472.0</td>\n",
       "      <td>970347.0</td>\n",
       "      <td>1151184.0</td>\n",
       "      <td>1342614.0</td>\n",
       "      <td>1536536.0</td>\n",
       "      <td>1630347</td>\n",
       "      <td>1639131</td>\n",
       "      <td>-11586.197794</td>\n",
       "    </tr>\n",
       "    <tr>\n",
       "      <th>4</th>\n",
       "      <td>Africa</td>\n",
       "      <td>Burkina Faso</td>\n",
       "      <td>543.255241</td>\n",
       "      <td>617.183465</td>\n",
       "      <td>722.512021</td>\n",
       "      <td>794.826560</td>\n",
       "      <td>854.735976</td>\n",
       "      <td>743.387037</td>\n",
       "      <td>807.198586</td>\n",
       "      <td>912.063142</td>\n",
       "      <td>...</td>\n",
       "      <td>5127935.0</td>\n",
       "      <td>5433886.0</td>\n",
       "      <td>5889574.0</td>\n",
       "      <td>6634596.0</td>\n",
       "      <td>7586551.0</td>\n",
       "      <td>8878303.0</td>\n",
       "      <td>10352843.0</td>\n",
       "      <td>12251209</td>\n",
       "      <td>14326203</td>\n",
       "      <td>-494.520973</td>\n",
       "    </tr>\n",
       "  </tbody>\n",
       "</table>\n",
       "<p>5 rows × 39 columns</p>\n",
       "</div>"
      ],
      "text/plain": [
       "  continent       country  gdpPercap_1952  gdpPercap_1957  gdpPercap_1962  \\\n",
       "0    Africa       Algeria     2449.008185     3013.976023     2550.816880   \n",
       "1    Africa        Angola     3520.610273     3827.940465     4269.276742   \n",
       "2    Africa         Benin     1062.752200      959.601080      949.499064   \n",
       "3    Africa      Botswana      851.241141      918.232535      983.653976   \n",
       "4    Africa  Burkina Faso      543.255241      617.183465      722.512021   \n",
       "\n",
       "   gdpPercap_1967  gdpPercap_1972  gdpPercap_1977  gdpPercap_1982  \\\n",
       "0     3246.991771     4182.663766     4910.416756     5745.160213   \n",
       "1     5522.776375     5473.288005     3008.647355     2756.953672   \n",
       "2     1035.831411     1085.796879     1029.161251     1277.897616   \n",
       "3     1214.709294     2263.611114     3214.857818     4551.142150   \n",
       "4      794.826560      854.735976      743.387037      807.198586   \n",
       "\n",
       "   gdpPercap_1987  ...    pop_1967    pop_1972    pop_1977    pop_1982  \\\n",
       "0     5681.358539  ...  12760499.0  14760787.0  17152804.0  20033753.0   \n",
       "1     2430.208311  ...   5247469.0   5894858.0   6162675.0   7016384.0   \n",
       "2     1225.856010  ...   2427334.0   2761407.0   3168267.0   3641603.0   \n",
       "3     6205.883850  ...    553541.0    619351.0    781472.0    970347.0   \n",
       "4      912.063142  ...   5127935.0   5433886.0   5889574.0   6634596.0   \n",
       "\n",
       "     pop_1987    pop_1992    pop_1997  pop_2002  pop_2007    gdp_change  \n",
       "0  23254956.0  26298373.0  29072015.0  31287142  33333216  -3672.550585  \n",
       "1   7874230.0   8735988.0   9875024.0  10866106  12420476   -527.954525  \n",
       "2   4243788.0   4981671.0   6066080.0   7026113   8078314   -491.785809  \n",
       "3   1151184.0   1342614.0   1536536.0   1630347   1639131 -11586.197794  \n",
       "4   7586551.0   8878303.0  10352843.0  12251209  14326203   -494.520973  \n",
       "\n",
       "[5 rows x 39 columns]"
      ]
     },
     "execution_count": 33,
     "metadata": {},
     "output_type": "execute_result"
    }
   ],
   "source": [
    "df.drop(columns=['gdp_change']) # Will this remove the column?\n",
    "df.head()"
   ]
  },
  {
   "cell_type": "markdown",
   "id": "6af31be9",
   "metadata": {
    "id": "6af31be9"
   },
   "source": [
    "**What happened? `gdp_change` is still there!**\n",
    "\n",
    "### <img src='images/tip_icon.svg' alt=\"Tip icon\" width=40 align=center> Tip\n",
    "> Unless you specify `inplace=True` or assign the DateFrame back to itself (or a different variable name), **the `drop` method does not change the original DateFrame!**\n",
    "\n",
    "Below is one way to permanently remove a column from a DateFrame by assigning the result to a new DateFrame variable `df2`."
   ]
  },
  {
   "cell_type": "code",
   "execution_count": 34,
   "id": "840718b2",
   "metadata": {
    "tags": []
   },
   "outputs": [
    {
     "data": {
      "text/html": [
       "<div>\n",
       "<style scoped>\n",
       "    .dataframe tbody tr th:only-of-type {\n",
       "        vertical-align: middle;\n",
       "    }\n",
       "\n",
       "    .dataframe tbody tr th {\n",
       "        vertical-align: top;\n",
       "    }\n",
       "\n",
       "    .dataframe thead th {\n",
       "        text-align: right;\n",
       "    }\n",
       "</style>\n",
       "<table border=\"1\" class=\"dataframe\">\n",
       "  <thead>\n",
       "    <tr style=\"text-align: right;\">\n",
       "      <th></th>\n",
       "      <th>continent</th>\n",
       "      <th>country</th>\n",
       "      <th>gdpPercap_1952</th>\n",
       "      <th>gdpPercap_1957</th>\n",
       "      <th>gdpPercap_1962</th>\n",
       "      <th>gdpPercap_1967</th>\n",
       "      <th>gdpPercap_1972</th>\n",
       "      <th>gdpPercap_1977</th>\n",
       "      <th>gdpPercap_1982</th>\n",
       "      <th>gdpPercap_1987</th>\n",
       "      <th>...</th>\n",
       "      <th>pop_1962</th>\n",
       "      <th>pop_1967</th>\n",
       "      <th>pop_1972</th>\n",
       "      <th>pop_1977</th>\n",
       "      <th>pop_1982</th>\n",
       "      <th>pop_1987</th>\n",
       "      <th>pop_1992</th>\n",
       "      <th>pop_1997</th>\n",
       "      <th>pop_2002</th>\n",
       "      <th>pop_2007</th>\n",
       "    </tr>\n",
       "  </thead>\n",
       "  <tbody>\n",
       "    <tr>\n",
       "      <th>0</th>\n",
       "      <td>Africa</td>\n",
       "      <td>Algeria</td>\n",
       "      <td>2449.008185</td>\n",
       "      <td>3013.976023</td>\n",
       "      <td>2550.816880</td>\n",
       "      <td>3246.991771</td>\n",
       "      <td>4182.663766</td>\n",
       "      <td>4910.416756</td>\n",
       "      <td>5745.160213</td>\n",
       "      <td>5681.358539</td>\n",
       "      <td>...</td>\n",
       "      <td>11000948.0</td>\n",
       "      <td>12760499.0</td>\n",
       "      <td>14760787.0</td>\n",
       "      <td>17152804.0</td>\n",
       "      <td>20033753.0</td>\n",
       "      <td>23254956.0</td>\n",
       "      <td>26298373.0</td>\n",
       "      <td>29072015.0</td>\n",
       "      <td>31287142</td>\n",
       "      <td>33333216</td>\n",
       "    </tr>\n",
       "    <tr>\n",
       "      <th>1</th>\n",
       "      <td>Africa</td>\n",
       "      <td>Angola</td>\n",
       "      <td>3520.610273</td>\n",
       "      <td>3827.940465</td>\n",
       "      <td>4269.276742</td>\n",
       "      <td>5522.776375</td>\n",
       "      <td>5473.288005</td>\n",
       "      <td>3008.647355</td>\n",
       "      <td>2756.953672</td>\n",
       "      <td>2430.208311</td>\n",
       "      <td>...</td>\n",
       "      <td>4826015.0</td>\n",
       "      <td>5247469.0</td>\n",
       "      <td>5894858.0</td>\n",
       "      <td>6162675.0</td>\n",
       "      <td>7016384.0</td>\n",
       "      <td>7874230.0</td>\n",
       "      <td>8735988.0</td>\n",
       "      <td>9875024.0</td>\n",
       "      <td>10866106</td>\n",
       "      <td>12420476</td>\n",
       "    </tr>\n",
       "    <tr>\n",
       "      <th>2</th>\n",
       "      <td>Africa</td>\n",
       "      <td>Benin</td>\n",
       "      <td>1062.752200</td>\n",
       "      <td>959.601080</td>\n",
       "      <td>949.499064</td>\n",
       "      <td>1035.831411</td>\n",
       "      <td>1085.796879</td>\n",
       "      <td>1029.161251</td>\n",
       "      <td>1277.897616</td>\n",
       "      <td>1225.856010</td>\n",
       "      <td>...</td>\n",
       "      <td>2151895.0</td>\n",
       "      <td>2427334.0</td>\n",
       "      <td>2761407.0</td>\n",
       "      <td>3168267.0</td>\n",
       "      <td>3641603.0</td>\n",
       "      <td>4243788.0</td>\n",
       "      <td>4981671.0</td>\n",
       "      <td>6066080.0</td>\n",
       "      <td>7026113</td>\n",
       "      <td>8078314</td>\n",
       "    </tr>\n",
       "    <tr>\n",
       "      <th>3</th>\n",
       "      <td>Africa</td>\n",
       "      <td>Botswana</td>\n",
       "      <td>851.241141</td>\n",
       "      <td>918.232535</td>\n",
       "      <td>983.653976</td>\n",
       "      <td>1214.709294</td>\n",
       "      <td>2263.611114</td>\n",
       "      <td>3214.857818</td>\n",
       "      <td>4551.142150</td>\n",
       "      <td>6205.883850</td>\n",
       "      <td>...</td>\n",
       "      <td>512764.0</td>\n",
       "      <td>553541.0</td>\n",
       "      <td>619351.0</td>\n",
       "      <td>781472.0</td>\n",
       "      <td>970347.0</td>\n",
       "      <td>1151184.0</td>\n",
       "      <td>1342614.0</td>\n",
       "      <td>1536536.0</td>\n",
       "      <td>1630347</td>\n",
       "      <td>1639131</td>\n",
       "    </tr>\n",
       "    <tr>\n",
       "      <th>4</th>\n",
       "      <td>Africa</td>\n",
       "      <td>Burkina Faso</td>\n",
       "      <td>543.255241</td>\n",
       "      <td>617.183465</td>\n",
       "      <td>722.512021</td>\n",
       "      <td>794.826560</td>\n",
       "      <td>854.735976</td>\n",
       "      <td>743.387037</td>\n",
       "      <td>807.198586</td>\n",
       "      <td>912.063142</td>\n",
       "      <td>...</td>\n",
       "      <td>4919632.0</td>\n",
       "      <td>5127935.0</td>\n",
       "      <td>5433886.0</td>\n",
       "      <td>5889574.0</td>\n",
       "      <td>6634596.0</td>\n",
       "      <td>7586551.0</td>\n",
       "      <td>8878303.0</td>\n",
       "      <td>10352843.0</td>\n",
       "      <td>12251209</td>\n",
       "      <td>14326203</td>\n",
       "    </tr>\n",
       "  </tbody>\n",
       "</table>\n",
       "<p>5 rows × 38 columns</p>\n",
       "</div>"
      ],
      "text/plain": [
       "  continent       country  gdpPercap_1952  gdpPercap_1957  gdpPercap_1962  \\\n",
       "0    Africa       Algeria     2449.008185     3013.976023     2550.816880   \n",
       "1    Africa        Angola     3520.610273     3827.940465     4269.276742   \n",
       "2    Africa         Benin     1062.752200      959.601080      949.499064   \n",
       "3    Africa      Botswana      851.241141      918.232535      983.653976   \n",
       "4    Africa  Burkina Faso      543.255241      617.183465      722.512021   \n",
       "\n",
       "   gdpPercap_1967  gdpPercap_1972  gdpPercap_1977  gdpPercap_1982  \\\n",
       "0     3246.991771     4182.663766     4910.416756     5745.160213   \n",
       "1     5522.776375     5473.288005     3008.647355     2756.953672   \n",
       "2     1035.831411     1085.796879     1029.161251     1277.897616   \n",
       "3     1214.709294     2263.611114     3214.857818     4551.142150   \n",
       "4      794.826560      854.735976      743.387037      807.198586   \n",
       "\n",
       "   gdpPercap_1987  ...    pop_1962    pop_1967    pop_1972    pop_1977  \\\n",
       "0     5681.358539  ...  11000948.0  12760499.0  14760787.0  17152804.0   \n",
       "1     2430.208311  ...   4826015.0   5247469.0   5894858.0   6162675.0   \n",
       "2     1225.856010  ...   2151895.0   2427334.0   2761407.0   3168267.0   \n",
       "3     6205.883850  ...    512764.0    553541.0    619351.0    781472.0   \n",
       "4      912.063142  ...   4919632.0   5127935.0   5433886.0   5889574.0   \n",
       "\n",
       "     pop_1982    pop_1987    pop_1992    pop_1997  pop_2002  pop_2007  \n",
       "0  20033753.0  23254956.0  26298373.0  29072015.0  31287142  33333216  \n",
       "1   7016384.0   7874230.0   8735988.0   9875024.0  10866106  12420476  \n",
       "2   3641603.0   4243788.0   4981671.0   6066080.0   7026113   8078314  \n",
       "3    970347.0   1151184.0   1342614.0   1536536.0   1630347   1639131  \n",
       "4   6634596.0   7586551.0   8878303.0  10352843.0  12251209  14326203  \n",
       "\n",
       "[5 rows x 38 columns]"
      ]
     },
     "execution_count": 34,
     "metadata": {},
     "output_type": "execute_result"
    }
   ],
   "source": [
    "# After dropping the column, we assign the resulting DateFrame to a new variable.\n",
    "# This will persist the change.\n",
    "df2 = df.drop(columns=['gdp_change']) \n",
    "df2.head() "
   ]
  },
  {
   "cell_type": "markdown",
   "id": "07188598",
   "metadata": {},
   "source": [
    "### <img src='images/exercise_icon.svg' alt=\"Exercise icon\" width=40 align=center> Exercise 7\n",
    "\n",
    "> Create a new DateFrame called `df3`, that contains everything in the `df` DateFrame **except** the `continent` column."
   ]
  },
  {
   "cell_type": "code",
   "execution_count": 35,
   "id": "79646cdc",
   "metadata": {
    "tags": []
   },
   "outputs": [
    {
     "data": {
      "text/plain": [
       "<bound method NDFrame.head of     continent         country  gdpPercap_1952  gdpPercap_1957  gdpPercap_1962  \\\n",
       "0      Africa         Algeria     2449.008185     3013.976023     2550.816880   \n",
       "1      Africa          Angola     3520.610273     3827.940465     4269.276742   \n",
       "2      Africa           Benin     1062.752200      959.601080      949.499064   \n",
       "3      Africa        Botswana      851.241141      918.232535      983.653976   \n",
       "4      Africa    Burkina Faso      543.255241      617.183465      722.512021   \n",
       "..        ...             ...             ...             ...             ...   \n",
       "137    Europe     Switzerland    14734.232750    17909.489730    20431.092700   \n",
       "138    Europe          Turkey     1969.100980     2218.754257     2322.869908   \n",
       "139    Europe  United Kingdom     9979.508487    11283.177950    12477.177070   \n",
       "140   Oceania       Australia    10039.595640    10949.649590    12217.226860   \n",
       "141   Oceania     New Zealand    10556.575660    12247.395320    13175.678000   \n",
       "\n",
       "     gdpPercap_1967  gdpPercap_1972  gdpPercap_1977  gdpPercap_1982  \\\n",
       "0       3246.991771     4182.663766     4910.416756     5745.160213   \n",
       "1       5522.776375     5473.288005     3008.647355     2756.953672   \n",
       "2       1035.831411     1085.796879     1029.161251     1277.897616   \n",
       "3       1214.709294     2263.611114     3214.857818     4551.142150   \n",
       "4        794.826560      854.735976      743.387037      807.198586   \n",
       "..              ...             ...             ...             ...   \n",
       "137    22966.144320    27195.113040    26982.290520    28397.715120   \n",
       "138     2826.356387     3450.696380     4269.122326     4241.356344   \n",
       "139    14142.850890    15895.116410    17428.748460    18232.424520   \n",
       "140    14526.124650    16788.629480    18334.197510    19477.009280   \n",
       "141    14463.918930    16046.037280    16233.717700    17632.410400   \n",
       "\n",
       "     gdpPercap_1987  ...    pop_1962    pop_1967    pop_1972    pop_1977  \\\n",
       "0       5681.358539  ...  11000948.0  12760499.0  14760787.0  17152804.0   \n",
       "1       2430.208311  ...   4826015.0   5247469.0   5894858.0   6162675.0   \n",
       "2       1225.856010  ...   2151895.0   2427334.0   2761407.0   3168267.0   \n",
       "3       6205.883850  ...    512764.0    553541.0    619351.0    781472.0   \n",
       "4        912.063142  ...   4919632.0   5127935.0   5433886.0   5889574.0   \n",
       "..              ...  ...         ...         ...         ...         ...   \n",
       "137    30281.704590  ...   5666000.0   6063000.0   6401400.0   6316424.0   \n",
       "138     5089.043686  ...  29788695.0  33411317.0  37492953.0  42404033.0   \n",
       "139    21664.787670  ...  53292000.0  54959000.0  56079000.0  56179000.0   \n",
       "140    21888.889030  ...  10794968.0  11872264.0  13177000.0  14074100.0   \n",
       "141    19007.191290  ...   2488550.0   2728150.0   2929100.0   3164900.0   \n",
       "\n",
       "       pop_1982    pop_1987    pop_1992    pop_1997  pop_2002  pop_2007  \n",
       "0    20033753.0  23254956.0  26298373.0  29072015.0  31287142  33333216  \n",
       "1     7016384.0   7874230.0   8735988.0   9875024.0  10866106  12420476  \n",
       "2     3641603.0   4243788.0   4981671.0   6066080.0   7026113   8078314  \n",
       "3      970347.0   1151184.0   1342614.0   1536536.0   1630347   1639131  \n",
       "4     6634596.0   7586551.0   8878303.0  10352843.0  12251209  14326203  \n",
       "..          ...         ...         ...         ...       ...       ...  \n",
       "137   6468126.0   6649942.0   6995447.0   7193761.0   7361757   7554661  \n",
       "138  47328791.0  52881328.0  58179144.0  63047647.0  67308928  71158647  \n",
       "139  56339704.0  56981620.0  57866349.0  58808266.0  59912431  60776238  \n",
       "140  15184200.0  16257249.0  17481977.0  18565243.0  19546792  20434176  \n",
       "141   3210650.0   3317166.0   3437674.0   3676187.0   3908037   4115771  \n",
       "\n",
       "[142 rows x 38 columns]>"
      ]
     },
     "execution_count": 35,
     "metadata": {},
     "output_type": "execute_result"
    }
   ],
   "source": [
    "# Code it!\n",
    "df3=df.drop(columns=['gdp_change'])\n",
    "df3.head"
   ]
  },
  {
   "cell_type": "markdown",
   "id": "8a113e56",
   "metadata": {},
   "source": [
    "## Descriptive Statistics\n",
    "\n",
    "### <img src='images/alert_icon.svg' alt=\"Alert icon\" width=40 align=center> Alert!\n",
    "> Before diving into an AI project, becoming familiar with the data you will be modeling is critical!  pandas has an extensive collection of optimized methods designed to help you analyze your data.\n",
    "\n",
    "A preliminary data discovery and exploration phase can help you better understand the data you will be modeling and has many downstream advantages:\n",
    "* You may identify potential problems with the dataset (e.g., missing values, outliers, incomplete columns, irrelevant information).\n",
    "* Results of data exploration may help you decide which preprocessing or modeling approach to take.\n",
    "* A better understanding of your dataset will help you interpret future results.\n",
    "\n",
    "#### Remember Python functions?\n",
    "pandas offers many **functions** that take as **input** a set of values (example: all of the values from the `gdpPercap_2007` column) and **return** a calculated **output** value based on which function was used.\n",
    "\n",
    "Here are a few examples (most are self-explanatory!):\n",
    "* `sum` (the sum of the values)\n",
    "* `count` (the number of values), `value_counts` (the number unique values)\n",
    "* `min` (the minimum value), `max` (the maximum value)\n",
    "* `mean` (the mean value), `median` (the median value), `mode` (the mode of the values)\n",
    "* `var` (the variance of the values), `std` (the standard deviation of the values)\n",
    "* `quantile` (the quantiles of the values)\n",
    "\n",
    "Let's take a look at a few examples using our dataset!"
   ]
  },
  {
   "cell_type": "markdown",
   "id": "085acc35",
   "metadata": {},
   "source": [
    "### <img src='images/example_icon.svg' alt=\"Example icon\" width=40 align=center> Example\n",
    "Here's how we can compute the **mean** GDP in 2007:"
   ]
  },
  {
   "cell_type": "code",
   "execution_count": null,
   "id": "e45b5034",
   "metadata": {
    "tags": []
   },
   "outputs": [],
   "source": [
    "# Compute the mean GDP in 2007\n",
    "df['gdpPercap_2007'].mean()"
   ]
  },
  {
   "cell_type": "markdown",
   "id": "e515f2c7",
   "metadata": {},
   "source": [
    "It's that easy! Let's compute a few more descriptive statistics:"
   ]
  },
  {
   "cell_type": "markdown",
   "id": "fb2ae2e7",
   "metadata": {},
   "source": [
    "### <img src='images/exercise_icon.svg' alt=\"Exercise icon\" width=40 align=center> Exercise 8\n",
    "> Compute the **minimum** GDP in 2007."
   ]
  },
  {
   "cell_type": "code",
   "execution_count": null,
   "id": "734a99a5",
   "metadata": {
    "tags": []
   },
   "outputs": [],
   "source": [
    "# Compute the minimum GDP in 2007\n",
    "# Your code here"
   ]
  },
  {
   "cell_type": "markdown",
   "id": "a5b75d65",
   "metadata": {},
   "source": [
    "### <img src='images/exercise_icon.svg' alt=\"Exercise icon\" width=40 align=center> Exercise 9\n",
    "> Compute the **maximum** GDP in 2007."
   ]
  },
  {
   "cell_type": "code",
   "execution_count": null,
   "id": "850dbf88",
   "metadata": {
    "tags": []
   },
   "outputs": [],
   "source": [
    "# Compute the maximum GDP in 2007\n",
    "# Your code here"
   ]
  },
  {
   "cell_type": "markdown",
   "id": "f8534aca",
   "metadata": {},
   "source": [
    "Finally, the `describe` function can be used on an entire DateFrame to display several standard statistics computed for each column. (**Note:** Be aware of each column's values and data types, as sometimes the statistics will not make sense.)"
   ]
  },
  {
   "cell_type": "code",
   "execution_count": null,
   "id": "2383c2f6",
   "metadata": {
    "tags": []
   },
   "outputs": [],
   "source": [
    "# (Almost) everything, (almost) everywhere, all at once\n",
    "# Note: will only compute statistics for columns with numerical data.\n",
    "df.describe()"
   ]
  },
  {
   "cell_type": "markdown",
   "id": "e8e532f0",
   "metadata": {},
   "source": [
    "## Filtering data\n",
    "pandas makes it easy to select, analyze, and process subsets of your data based on some criteria, `C`. This is accomplished with the syntax: `df[C]`, which will return a subset of DateFrame `df` that **matches** the criteria `C` listed inside brackets `[]`."
   ]
  },
  {
   "cell_type": "markdown",
   "id": "3d90eb91",
   "metadata": {},
   "source": [
    "### Comparing values\n",
    "In pandas, we can create filtering criteria using familiar mathematical operators to compare values:\n",
    "* `>`: greater than\n",
    "* `<`: less than\n",
    "* `>=`: greater than or equal to\n",
    "* `<=`: less than or equal to\n",
    "* `!=`: is not equal to\n",
    "* `==`: is equal to a single value\n",
    "* **Bonus:** `.isin(L)`: equals any value in the list `L`"
   ]
  },
  {
   "cell_type": "markdown",
   "id": "17853995",
   "metadata": {},
   "source": [
    "### <img src='images/example_icon.svg' alt=\"Example icon\" width=40 align=center> Example\n",
    "Display 2007 GDP is **greater** than $40,000.\n",
    "* In this example, the criterion `C` is `df['gdpPercap_2007'] > 40000`.\n",
    "* Recall the pandas filtering syntax: `df[C]`.\n",
    "* So, this is what we want: `df[df['gdpPercap_2007'] > 40000]`."
   ]
  },
  {
   "cell_type": "code",
   "execution_count": null,
   "id": "effbed44",
   "metadata": {
    "tags": []
   },
   "outputs": [],
   "source": [
    "# Select rows where 2007 GDP is greater than $40,000\n",
    "df[df['gdpPercap_2007'] > 40000]"
   ]
  },
  {
   "cell_type": "markdown",
   "id": "4dcdd276",
   "metadata": {},
   "source": [
    "### <img src='images/exercise_icon.svg' alt=\"Exercise icon\" width=40 align=center> Exercise 10\n",
    "> Display where 2007 GDP is **less** than $500"
   ]
  },
  {
   "cell_type": "code",
   "execution_count": null,
   "id": "45465e39",
   "metadata": {
    "tags": []
   },
   "outputs": [],
   "source": [
    "# Display rows where 2007 GDP is less than $500"
   ]
  },
  {
   "cell_type": "markdown",
   "id": "69539eb3",
   "metadata": {},
   "source": [
    "### <img src='images/example_icon.svg' alt=\"Example icon\" width=40 align=center> Example\n",
    "Display the first 5 rows for African countries.\n",
    "\n",
    "* Recall that the symbol `==` will check for equality (we want the continent to be equal to the single value `Africa`).\n",
    "* In this example, the criterion `C` is `df['continent] == 'Africa'`.\n",
    "* Given the pandas filtering syntax: `df[C]`, this is what we want: `df[df['continent'] == 'Africa']`."
   ]
  },
  {
   "cell_type": "code",
   "execution_count": null,
   "id": "a17076c2",
   "metadata": {
    "tags": []
   },
   "outputs": [],
   "source": [
    "# Display the first 5 rows for African countries.\n",
    "df[df['continent'] == 'Africa'].head()"
   ]
  },
  {
   "cell_type": "markdown",
   "id": "cceae2a5",
   "metadata": {},
   "source": [
    "### <img src='images/exercise_icon.svg' alt=\"Exercise icon\" width=40 align=center> Exercise 11\n",
    "> Display the first 5 rows for European countries (`'continent'`==`'Europe'`)."
   ]
  },
  {
   "cell_type": "code",
   "execution_count": null,
   "id": "d71ee165",
   "metadata": {
    "tags": []
   },
   "outputs": [],
   "source": [
    "# Display the first 5 rows for European countries ('continent'=='Europe').\n",
    "# Write your code here\n"
   ]
  },
  {
   "cell_type": "markdown",
   "id": "c7bc6f15",
   "metadata": {},
   "source": [
    "### Combining multiple criteria\n",
    "\n",
    "Multiple criteria can be combined using either the `&` or `|` symbols:\n",
    "* C1 `&` C2: This will select rows that match **both** criterion C1 **and** criterion C2.\n",
    "* C1 `|` C2: This will select rows that match **either** criterion C1 **or** criterion C2.\n",
    "\n",
    "### <img src='images/example_icon.svg' alt=\"Example icon\" width=40 align=center> Example\n",
    "Display rows where 2007 GDP is greater than or equal to 3,000 and 2007 life expectancy is under 60. In this example, we have two criteria:\n",
    "* C1: `df['gdpPercap_2007'] >= 3000`\n",
    "* C2: `df['lifeExp_2007'] < 60`"
   ]
  },
  {
   "cell_type": "code",
   "execution_count": null,
   "id": "f9d2d237",
   "metadata": {
    "tags": []
   },
   "outputs": [],
   "source": [
    "# Select rows where 2007 GDP is greater than or equal to 30,000 and 2007 life expectancy is under 60.\n",
    "df[(df['gdpPercap_2007'] >= 3000) & (df['lifeExp_2007'] < 60)]"
   ]
  },
  {
   "cell_type": "markdown",
   "id": "54e734e9",
   "metadata": {},
   "source": [
    "### <img src='images/exercise_icon.svg' alt=\"Exercise icon\" width=40 align=center> Exercise 12\n",
    "> Display all European countries that have 2007 life expectancies over 80."
   ]
  },
  {
   "cell_type": "code",
   "execution_count": null,
   "id": "9aedbbfd",
   "metadata": {
    "tags": []
   },
   "outputs": [],
   "source": [
    "# Display all European countries that have 2007 life expectancies over 80.\n",
    "# Your code here\n",
    "\n"
   ]
  },
  {
   "cell_type": "markdown",
   "id": "0e7a5eb1",
   "metadata": {},
   "source": [
    "### Analyzing filtered data\n",
    "We can also perform our descriptive statistics on a filtered subset!"
   ]
  },
  {
   "cell_type": "code",
   "execution_count": null,
   "id": "fb9a1376",
   "metadata": {
    "tags": []
   },
   "outputs": [],
   "source": [
    "df[(df['continent'] == 'Europe') & (df['lifeExp_2007'] > 80)].describe()"
   ]
  },
  {
   "cell_type": "markdown",
   "id": "5d9c19e1",
   "metadata": {},
   "source": [
    "## Data visualization\n",
    "\n",
    "Let's conclude this lesson by learning how pandas can enhance our understanding of a dataset with its many built-in visualization tools.\n",
    "\n",
    "Let's see the data! This time, we'll load our dataset into a DateFrame variable named `X`. \n",
    "\n",
    "> ![A hand icon](images/hand.png) Wait! `X`?? Didn't we say to avoid single-letter variable names and generally use lowercase?? Well...rules are...there to be broken when there is a good reason. In much of machine learning and AI, we work with datasets where we want to make a model to generate a prediction. Part of the goal is to take input data and predict an output or outcome. Thinking of a graph with `x`- and `y`-values, we can think of the `x`-value as an input and the `y`-value as the outcome. So, `x` and `y` make sense as variable names when thinking about values on a graph and datasets more generally. Going further, we borrow a convention from math, where a matrix (or a table with several columns) is referenced with a capital letter. Since our DataFrame has multiple columns, we will use the capital X for the name. \n",
    ">\n",
    "> We also want to ensure you understand that while we frequently use `df` for a DataFrame variable name, `df` is just a name, and nothing is special about it."
   ]
  },
  {
   "cell_type": "code",
   "execution_count": null,
   "id": "088473f7",
   "metadata": {
    "tags": []
   },
   "outputs": [],
   "source": [
    "X = pd.read_csv(url) # url is defined above\n",
    "X.head()"
   ]
  },
  {
   "cell_type": "markdown",
   "id": "f35b27a8",
   "metadata": {},
   "source": [
    "### <img src='images/example_icon.svg' alt=\"Example icon\" width=40 align=center> Example\n",
    "Let's visually examine the distribution of 2007 GDPs with the pandas `hist` (histogram) function."
   ]
  },
  {
   "cell_type": "code",
   "execution_count": null,
   "id": "2cf817b3",
   "metadata": {
    "tags": []
   },
   "outputs": [],
   "source": [
    "hist = X['gdpPercap_2007'].hist()"
   ]
  },
  {
   "cell_type": "markdown",
   "id": "28f61863",
   "metadata": {},
   "source": [
    "We can modify many parameters of the `hist` function to create a more informative figure."
   ]
  },
  {
   "cell_type": "code",
   "execution_count": null,
   "id": "c67d123b",
   "metadata": {
    "tags": []
   },
   "outputs": [],
   "source": [
    "hist = X['gdpPercap_2007'].hist(bins=72, grid=False)\n",
    "hist.set_title('Distribution of 2007 GDP of Countries')\n",
    "hist.set_ylabel('Count')\n",
    "hist.set_xlabel('GDP in 2007')\n",
    "display(hist)"
   ]
  },
  {
   "cell_type": "markdown",
   "id": "44145fe4",
   "metadata": {},
   "source": [
    "### <img src='images/exercise_icon.svg' alt=\"Exercise icon\" width=40 align=center> Exercise 13\n",
    "> Visualize the distribution of the 2007 life expectancies."
   ]
  },
  {
   "cell_type": "code",
   "execution_count": null,
   "id": "6ac17451",
   "metadata": {
    "tags": []
   },
   "outputs": [],
   "source": [
    "# Visualize the distribution of the 2007 life expectancies.\n",
    "# Your code here\n"
   ]
  },
  {
   "cell_type": "markdown",
   "id": "d6ff5eb1-85b5-4802-adaa-3e4e4065764f",
   "metadata": {},
   "source": [
    "This can also be written as: `X.hist(['lifeExp_2007'], bins=40)`\n",
    "\n",
    "That syntax makes it easier to plot multiple histograms side-by-side. Below, we compare the distributions of life expectancies in 1962 and 2007."
   ]
  },
  {
   "cell_type": "code",
   "execution_count": null,
   "id": "e81d1106-801f-4318-b7a6-7216dc416a68",
   "metadata": {
    "tags": []
   },
   "outputs": [],
   "source": [
    "X.hist(column=['lifeExp_1962','lifeExp_2007'], bins=40, sharey=True, sharex=True)"
   ]
  },
  {
   "cell_type": "markdown",
   "id": "6a622496",
   "metadata": {},
   "source": [
    "### <img src='images/example_icon.svg' alt=\"Example icon\" width=40 align=center> Example\n",
    "We can use the `df.plot.box` function to create box plots from columns in our DateFrame:"
   ]
  },
  {
   "cell_type": "code",
   "execution_count": null,
   "id": "2524525c",
   "metadata": {
    "tags": []
   },
   "outputs": [],
   "source": [
    "X.plot.box(column='lifeExp_2007', by='continent')"
   ]
  },
  {
   "cell_type": "markdown",
   "id": "bfa1e495",
   "metadata": {},
   "source": [
    "### <img src='images/exercise_icon.svg' alt=\"Exercise icon\" width=40 align=center> Exercise 14\n",
    "> Practice with the `hist` and `box` functions by exploring different columns in our DateFrame. Experiment with data filtering methods to refine your figures further. **Hint:** We can see all available columns with `print(X.columns)`."
   ]
  },
  {
   "cell_type": "code",
   "execution_count": null,
   "id": "705b9371",
   "metadata": {},
   "outputs": [],
   "source": [
    "### Experiment with code!\n"
   ]
  },
  {
   "cell_type": "markdown",
   "id": "66e920e6-0941-4f38-8b38-63341fdff3a4",
   "metadata": {},
   "source": [
    "----\n",
    "## Push changes to GitHub <img src=\"images/push_to_github.png\" alt=\"Push to GitHub icon\" align=\"right\" width=150>\n",
    "\n",
    " Remember to **add**, **commit**, and **push** the changes you have made to this notebook to GitHub to keep your repository in sync.\n",
    "\n",
    "In Jupyter, those are done in the git tab on the left. In Google Colab, use File > Save a copy in GitHub.\n",
    "\n",
    "\n",
    "***\n",
    "#### Attribution \n",
    "Some content in this learning experience was adapted from Ben Shickel's [AI for Medicine bootcamp](https://github.com/gatorai/scripps) content.  "
   ]
  },
  {
   "cell_type": "code",
   "execution_count": null,
   "id": "d204c609-a815-4768-888e-6a1e6f55b0c7",
   "metadata": {},
   "outputs": [],
   "source": []
  }
 ],
 "metadata": {
  "colab": {
   "provenance": []
  },
  "kernelspec": {
   "display_name": "UFRC Python-3.10",
   "language": "python",
   "name": "python3-3.10-ufrc"
  },
  "language_info": {
   "codemirror_mode": {
    "name": "ipython",
    "version": 3
   },
   "file_extension": ".py",
   "mimetype": "text/x-python",
   "name": "python",
   "nbconvert_exporter": "python",
   "pygments_lexer": "ipython3",
   "version": "3.10.8"
  }
 },
 "nbformat": 4,
 "nbformat_minor": 5
}
